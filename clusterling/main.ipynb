{
 "cells": [
  {
   "cell_type": "code",
   "execution_count": 2,
   "metadata": {},
   "outputs": [],
   "source": [
    "import numpy as np\n",
    "from sklearn.cluster import KMeans\n",
    "import torch"
   ]
  },
  {
   "cell_type": "code",
   "execution_count": 4,
   "metadata": {},
   "outputs": [
    {
     "name": "stdout",
     "output_type": "stream",
     "text": [
      "tensor finished\n"
     ]
    }
   ],
   "source": [
    "N = 300\n",
    "tensor = torch.load('../data/resnet50_tensor.pt').numpy().copy()[:200000]\n",
    "print('tensor finished')\n",
    "kmeans_model = KMeans(n_clusters=N, random_state=10).fit(tensor)\n",
    "\n",
    "# 分類先となったラベルを取得する\n",
    "labels = kmeans_model.labels_"
   ]
  },
  {
   "cell_type": "code",
   "execution_count": 6,
   "metadata": {},
   "outputs": [],
   "source": [
    "with open(f'cluster_label_{N}.txt', 'w') as f:\n",
    "    [f.write(f'{l}\\n') for l in labels]"
   ]
  },
  {
   "cell_type": "code",
   "execution_count": 30,
   "metadata": {},
   "outputs": [
    {
     "name": "stdout",
     "output_type": "stream",
     "text": [
      "(300, 768)\n"
     ]
    }
   ],
   "source": [
    "center_vectors = np.array([])\n",
    "for l in range(N):\n",
    "    center_vector = np.mean(tensor[labels == l], axis = 0)\n",
    "    # print(center_vector.shape, tensor[labels == l].shape)\n",
    "    center_vectors = np.append(center_vectors, center_vector, axis=0)\n",
    "center_vectors = center_vectors.reshape(N, 768)\n",
    "print(center_vectors.shape)\n",
    "center_tensors = torch.from_numpy(center_vectors.astype(np.float32)).clone()\n",
    "torch.save(center_tensors, './center_tensors.pt')"
   ]
  },
  {
   "cell_type": "code",
   "execution_count": 31,
   "metadata": {},
   "outputs": [],
   "source": [
    "import matplotlib.pyplot as plt\n",
    "import pandas as pd\n",
    "import torch\n",
    "from sklearn.manifold import TSNE"
   ]
  },
  {
   "cell_type": "code",
   "execution_count": 33,
   "metadata": {},
   "outputs": [],
   "source": [
    "p = torch.ones(len(tensor))\n",
    "index = p.multinomial(num_samples=40000, replacement=False)\n",
    "sampling_tensor = tensor[index]\n",
    "sampling_label = np.array(labels)\n",
    "sampling_label = sampling_label[index]"
   ]
  },
  {
   "cell_type": "code",
   "execution_count": 34,
   "metadata": {},
   "outputs": [],
   "source": [
    "tsne = TSNE(n_components=2, random_state = 0, perplexity = 30, n_iter = 1000)\n",
    "X_embedded = tsne.fit_transform(sampling_tensor)\n",
    "X = pd.DataFrame(X_embedded, columns = ['col1', 'col2'])"
   ]
  },
  {
   "cell_type": "code",
   "execution_count": null,
   "metadata": {},
   "outputs": [],
   "source": [
    "import numpy as np\n",
    "import matplotlib\n",
    "import japanize_matplotlib\n",
    "fig = plt.figure(figsize = (50, 50))\n",
    "colors = list(matplotlib.colors.CSS4_COLORS.values())\n",
    "for i, v in enumerate(300):\n",
    "    category_mask = sampling_label == np.array(v)\n",
    "    # category_mask = filtering_label == np.array(v)\n",
    "    tmp_df = X[category_mask]\n",
    "    # print(tmp_df)\n",
    "    plt.scatter(tmp_df['col1'],\n",
    "                tmp_df['col2'],\n",
    "                label = v,\n",
    "                color = colors[i])\n",
    "\n",
    "plt.legend(fontsize = 50)\n",
    "fig.savefig('only_tops_with_kind.png')"
   ]
  }
 ],
 "metadata": {
  "kernelspec": {
   "display_name": "base",
   "language": "python",
   "name": "python3"
  },
  "language_info": {
   "codemirror_mode": {
    "name": "ipython",
    "version": 3
   },
   "file_extension": ".py",
   "mimetype": "text/x-python",
   "name": "python",
   "nbconvert_exporter": "python",
   "pygments_lexer": "ipython3",
   "version": "3.9.7"
  },
  "orig_nbformat": 4
 },
 "nbformat": 4,
 "nbformat_minor": 2
}
