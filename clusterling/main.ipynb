{
 "cells": [
  {
   "cell_type": "code",
   "execution_count": null,
   "metadata": {},
   "outputs": [],
   "source": [
    "import numpy as np\n",
    "from sklearn.cluster import KMeans\n",
    "import torch"
   ]
  },
  {
   "cell_type": "code",
   "execution_count": null,
   "metadata": {},
   "outputs": [],
   "source": [
    "N = 100\n",
    "tensor = torch.load('../data/resnet50_tensor.pt').numpy().copy()\n",
    "print('tensor finished')\n",
    "kmeans_model = KMeans(n_clusters=N, random_state=10).fit(tensor)\n",
    "\n",
    "# 分類先となったラベルを取得する\n",
    "labels = kmeans_model.labels_\n",
    "\n",
    "# ラベル (班) 、成績、三科目の合計得点を表示する\n",
    "for label, feature in zip(labels, tensor):\n",
    "    print(label, feature)"
   ]
  },
  {
   "cell_type": "code",
   "execution_count": null,
   "metadata": {},
   "outputs": [],
   "source": [
    "with open(f'cluster_label_{N}.txt', 'w') as f:\n",
    "    [f.write(f'{l}\\n') for l in label]"
   ]
  },
  {
   "cell_type": "code",
   "execution_count": null,
   "metadata": {},
   "outputs": [],
   "source": [
    "center_vectors = np.array([])\n",
    "for l in range(N):\n",
    "    center_vector = np.mean(tensor[labels == l], axis = 0)\n",
    "    center_vectors = np.append(center_vectors, center_vector, axis=0)\n",
    "\n",
    "center_tensors = torch.from_numpy(center_vectors.astype(np.float32)).clone()\n",
    "torch.save(center_tensors, './center_tensors.pt')\n"
   ]
  }
 ],
 "metadata": {
  "language_info": {
   "name": "python"
  },
  "orig_nbformat": 4
 },
 "nbformat": 4,
 "nbformat_minor": 2
}
