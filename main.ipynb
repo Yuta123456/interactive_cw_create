{
 "cells": [
  {
   "cell_type": "code",
   "execution_count": 1,
   "metadata": {},
   "outputs": [],
   "source": [
    "from create_fashion_items_image import create_cw_image, create_fashion_items_image\n",
    "from embedding_word import get_embedding_word\n",
    "from fashion_class.FashionItem import FashionItem\n",
    "from fashion_class.ImageStruct import ImageStruct\n",
    "from get_caption_model import get_caption_model\n",
    "from search_items import search_items_from_caption_embedding"
   ]
  },
  {
   "cell_type": "code",
   "execution_count": 2,
   "metadata": {},
   "outputs": [
    {
     "name": "stdout",
     "output_type": "stream",
     "text": [
      "model初期化\n"
     ]
    },
    {
     "name": "stderr",
     "output_type": "stream",
     "text": [
      "Some weights of the model checkpoint at cl-tohoku/bert-base-japanese-v2 were not used when initializing BertModel: ['cls.predictions.bias', 'cls.seq_relationship.bias', 'cls.predictions.transform.dense.bias', 'cls.predictions.transform.LayerNorm.bias', 'cls.predictions.decoder.bias', 'cls.seq_relationship.weight', 'cls.predictions.decoder.weight', 'cls.predictions.transform.LayerNorm.weight', 'cls.predictions.transform.dense.weight']\n",
      "- This IS expected if you are initializing BertModel from the checkpoint of a model trained on another task or with another architecture (e.g. initializing a BertForSequenceClassification model from a BertForPreTraining model).\n",
      "- This IS NOT expected if you are initializing BertModel from the checkpoint of a model that you expect to be exactly identical (initializing a BertForSequenceClassification model from a BertForSequenceClassification model).\n"
     ]
    },
    {
     "name": "stdout",
     "output_type": "stream",
     "text": [
      "model初期化完了\n",
      "データセット初期化中\n",
      "【================================================================================================    】データセット初期化終了\n"
     ]
    }
   ],
   "source": [
    "# modelを定義\n",
    "print('model初期化')\n",
    "caption_model, tokenizer = get_caption_model()\n",
    "print('model初期化完了')\n",
    "\n",
    "print('データセット初期化中')\n",
    "# データセットを初期化\n",
    "annotation_file, tensor_file = \\\n",
    "      './data/anotation_new.csv', './data/resnet50_tensor.pt'\n",
    "dataset = ImageStruct(annotation_file, tensor_file, init_item_length=300)\n",
    "print('データセット初期化終了')\n"
   ]
  },
  {
   "cell_type": "code",
   "execution_count": 3,
   "metadata": {},
   "outputs": [
    {
     "name": "stdout",
     "output_type": "stream",
     "text": [
      " に基づき、画像検索を行います。\n",
      "[          ] 0.0% に基づき、画像検索を行います。\n",
      "[          ] 0.0% に基づき、画像検索を行います。\n",
      "[          ] 0.0%"
     ]
    }
   ],
   "source": [
    "# ユーザに表示して、気に入ったアイテムをいくつか選んでもらう\n",
    "category_list = [\"tops\", \"bottoms\", \"shoes\"]\n",
    "category_dataset = {\n",
    "    'tops': dataset.tops,\n",
    "    'bottoms': dataset.bottoms,\n",
    "    'shoes': dataset.shoes\n",
    "}\n",
    "required_items = {}\n",
    "initial_items = {}\n",
    "for c in category_list:\n",
    "    required_items[c] = []\n",
    "    # 好きな単語をいくつか入力してもらう\n",
    "    favorite_word = input(f\"{c} を選びます。単語をスペース区切りで入力してください: \")\n",
    "    print(f'{favorite_word} に基づき、画像検索を行います。')\n",
    "    # captionのベクトル化を行い、それに合う画像を検索\n",
    "    caption_embedding = get_embedding_word(favorite_word, caption_model, tokenizer)\n",
    "\n",
    "    # imagesは、このような形式\n",
    "    # (-score, t_img_path, t_id)\n",
    "    fashion_items = search_items_from_caption_embedding(caption_embedding, category_dataset[c], limit=100)\n",
    "\n",
    "    image = create_fashion_items_image(fashion_items)\n",
    "    image.show()\n",
    "    favorite_item_set = list(map(int, input(f'気に入った {c} アイテムのidをスペース区切りで入力してください').split()))\n",
    "    for i in favorite_item_set:\n",
    "        # TODO: エラーハンドリングしないと落ちる\n",
    "        required_items[c].append(fashion_items[i-1])\n",
    "    if len(required_items[c]) == 0:\n",
    "        # マジックナンバー\n",
    "        initial_items[c] = fashion_items[:4]\n",
    "    else:\n",
    "        initial_items[c] = []\n",
    "\n"
   ]
  },
  {
   "cell_type": "code",
   "execution_count": 62,
   "metadata": {},
   "outputs": [],
   "source": [
    "import importlib\n",
    "\n",
    "import fashion_class\n",
    "from fashion_class import CapsuleWardrobeClass\n",
    "import CreateCW\n",
    "importlib.reload(CreateCW)\n",
    "importlib.reload(fashion_class)\n",
    "importlib.reload(fashion_class.CapsuleWardrobeClass)\n",
    "from fashion_class.CapsuleWardrobeClass import CapsuleWardrobe\n",
    "importlib.reload(CreateCW)\n",
    "from fashion_class.FashionItem import FashionItem\n",
    "import gc\n",
    "from CreateCW import change_item_recommandation, create_cw, search_alternate_item"
   ]
  },
  {
   "cell_type": "code",
   "execution_count": 63,
   "metadata": {},
   "outputs": [
    {
     "name": "stdout",
     "output_type": "stream",
     "text": [
      "与えられた情報をもとにCWを構築しています。\n",
      "0.6284337349397592 0.0\n",
      "0回目 増加分: 0.6284337349397592\n",
      "0.6284337349397592 0.0\n",
      "0回目 増加分: 0.0\n",
      "生成されたcwがこちらです\n",
      "tensor(2.4378)\n",
      "tensor(2.4378) 4.375352839931153 1\n",
      "tensor(1.4918)\n",
      "tensor(1.1872)\n",
      "tensor(1.9398)\n",
      "tensor(2.3261)\n",
      "tensor(2.1784)\n",
      "tensor(1.4345)\n",
      "tensor(2.8495)\n",
      "tensor(2.8495) 4.375352839931153 1\n",
      "tensor(2.3089)\n",
      "tensor(1.2645)\n",
      "tensor(1.8976)\n",
      "tensor(2.5108)\n",
      "tensor(2.5858)\n",
      "tensor(1.1471)\n",
      "tensor(1.1471) 10.054939759036145 1\n",
      "tensor(2.0046)\n",
      "tensor(1.5450)\n",
      "tensor(0.7443)\n",
      "tensor(1.8147)\n",
      "tensor(2.1855)\n",
      "tensor(1.5734)\n",
      "tensor(1.9072)\n",
      "tensor(1.2769)\n",
      "tensor(1.2769) 10.054939759036145 1\n",
      "tensor(2.0066)\n",
      "tensor(2.0066) 10.054939759036145 1\n",
      "tensor(2.5235)\n",
      "tensor(1.5319)\n",
      "tensor(1.8700)\n",
      "tensor(2.3670)\n",
      "tensor(2.0759)\n",
      "tensor(2.4248)\n",
      "tensor(1.2376)\n",
      "tensor(2.6293)\n",
      "tensor(2.7202)\n",
      "tensor(2.7385)\n",
      "tensor(2.3880)\n",
      "tensor(1.4811)\n",
      "tensor(1.3267)\n",
      "tensor(1.9649)\n",
      "tensor(2.6401)\n",
      "tensor(2.2194)\n",
      "tensor(1.3529)\n",
      "tensor(2.7715)\n",
      "tensor(1.4503)\n",
      "tensor(2.0215)\n",
      "tensor(2.5754)\n",
      "tensor(2.8052)\n",
      "tensor(1.3935)\n",
      "tensor(1.6631)\n",
      "tensor(2.5692)\n",
      "tensor(1.0901)\n",
      "tensor(2.3705)\n",
      "tensor(2.5920)\n",
      "tensor(1.4725)\n",
      "tensor(1.5187)\n",
      "tensor(2.1516)\n",
      "tensor(2.0681)\n",
      "0.696179001721169 0.25\n",
      "0回目 増加分: 0.946179001721169\n",
      "0.696179001721169 0.25\n",
      "0回目 増加分: 0.0\n"
     ]
    }
   ],
   "source": [
    "\n",
    "# CWを構築\n",
    "print(\"与えられた情報をもとにCWを構築しています。\")\n",
    "\n",
    "cw = create_cw(required_items, dataset, initial_items)\n",
    "print(\"生成されたcwがこちらです\")\n",
    "\n",
    "# 画像を表示\n",
    "while True:\n",
    "    gc.collect\n",
    "    image = create_cw_image(cw)\n",
    "    image.show()\n",
    "    item = input(\"出来上がったcwに対して、気に入らないitemを1つ tops:2 bottoms:3 のように指定してください。CWが完成した場合はqと入力してください > \")\n",
    "    if item == 'q':\n",
    "        break\n",
    "    kind, index = item.split(':')\n",
    "    index = int(index)\n",
    "    if kind != 'tops' and kind != 'bottoms' and kind != 'shoes':\n",
    "        raise Exception('ValueError')\n",
    "        # continue\n",
    "    new_item = search_alternate_item(cw, kind, index-1, dataset)\n",
    "    # 1枚多く計算する\n",
    "    # 既存のアイテムは外さない\n",
    "    required_items = {\n",
    "        'tops': cw.get_tops(),\n",
    "        'bottoms':cw.get_bottoms(),\n",
    "        'shoes':cw.get_shoes()\n",
    "    }\n",
    "    new_item_image = new_item.create_image()\n",
    "    new_item_image.show()\n",
    "\n",
    "    # 既存のアイテムのお気に入りの入れ替え\n",
    "    required_items[kind][index-1] = new_item\n",
    "\n",
    "    alternate_cw = create_cw(required_items, dataset, max_length=cw.max_length + 1)\n",
    "    new_items = {\n",
    "        'tops': alternate_cw.get_tops()[-1],\n",
    "        'bottoms': alternate_cw.get_bottoms()[-1],\n",
    "        'shoes': alternate_cw.get_shoes()[-1]\n",
    "    }\n",
    "    image = create_cw_image(alternate_cw)\n",
    "    image.show()\n",
    "    recommended_change = change_item_recommandation(alternate_cw)\n",
    "    for (r, i) in recommended_change.items():\n",
    "        if r == kind or i+1 == 5:\n",
    "            continue\n",
    "        can_change = input(f'{r}の{i+1}番目を、新しい推薦アイテムと変えるとより良いCWになりますが、変えますか？ yes/no')\n",
    "        if can_change == 'yes':\n",
    "            required_items[r][i] = new_items[r]\n",
    "    cw = CapsuleWardrobe(initial_items=required_items)\n",
    "    "
   ]
  },
  {
   "cell_type": "code",
   "execution_count": 6,
   "metadata": {},
   "outputs": [],
   "source": [
    "image = create_cw_image(cw)\n",
    "image.show()"
   ]
  },
  {
   "cell_type": "code",
   "execution_count": 7,
   "metadata": {},
   "outputs": [
    {
     "data": {
      "text/plain": [
       "[9081586, 6647483, 16585643, 11247749]"
      ]
     },
     "execution_count": 7,
     "metadata": {},
     "output_type": "execute_result"
    }
   ],
   "source": [
    "[i.item_id for i in cw.get_bottoms()]"
   ]
  },
  {
   "cell_type": "code",
   "execution_count": 8,
   "metadata": {},
   "outputs": [
    {
     "data": {
      "text/plain": [
       "[37626209, 34020467, 38069846, 31572883]"
      ]
     },
     "execution_count": 8,
     "metadata": {},
     "output_type": "execute_result"
    }
   ],
   "source": [
    "[i.item_id for i in cw.get_shoes()]"
   ]
  },
  {
   "cell_type": "code",
   "execution_count": 9,
   "metadata": {},
   "outputs": [
    {
     "data": {
      "text/plain": [
       "[42915031, 37858901, 37356398, 21751102]"
      ]
     },
     "execution_count": 9,
     "metadata": {},
     "output_type": "execute_result"
    }
   ],
   "source": [
    "[i.item_id for i in cw.get_tops()]"
   ]
  }
 ],
 "metadata": {
  "kernelspec": {
   "display_name": "base",
   "language": "python",
   "name": "python3"
  },
  "language_info": {
   "codemirror_mode": {
    "name": "ipython",
    "version": 3
   },
   "file_extension": ".py",
   "mimetype": "text/x-python",
   "name": "python",
   "nbconvert_exporter": "python",
   "pygments_lexer": "ipython3",
   "version": "3.9.7"
  },
  "orig_nbformat": 4
 },
 "nbformat": 4,
 "nbformat_minor": 2
}
