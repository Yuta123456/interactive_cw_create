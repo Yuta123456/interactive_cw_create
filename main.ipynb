{
 "cells": [
  {
   "cell_type": "code",
   "execution_count": 1,
   "metadata": {},
   "outputs": [],
   "source": [
    "from create_fashion_items_image import create_cw_image, create_fashion_items_image\n",
    "from embedding_word import get_embedding_word\n",
    "from fashion_class.FashionItem import FashionItem\n",
    "from fashion_class.ImageStruct import ImageStruct\n",
    "import sys\n",
    "from search_items import search_items_from_caption_embedding"
   ]
  },
  {
   "cell_type": "code",
   "execution_count": 2,
   "metadata": {},
   "outputs": [
    {
     "name": "stdout",
     "output_type": "stream",
     "text": [
      "データセット初期化中\n",
      "【                                                                                                    】"
     ]
    }
   ],
   "source": [
    "print('データセット初期化中')\n",
    "# データセットを初期化\n",
    "annotation_file, tensor_file = \\\n",
    "      './data/anotation_new.csv', './data/resnet50_tensor.pt'\n",
    "dataset = ImageStruct(annotation_file, tensor_file, init_item_length=200)\n",
    "print('データセット初期化終了')"
   ]
  },
  {
   "cell_type": "code",
   "execution_count": null,
   "metadata": {},
   "outputs": [
    {
     "ename": "",
     "evalue": "",
     "output_type": "error",
     "traceback": [
      "\u001b[1;31mFailed to start the Kernel. \n",
      "\u001b[1;31mUnable to start Kernel 'base (Python 3.9.7)' due to a timeout waiting for the ports to get used. \n",
      "\u001b[1;31mView Jupyter <a href='command:jupyter.viewOutput'>log</a> for further details."
     ]
    }
   ],
   "source": [
    "import random\n",
    "# ユーザに表示して、気に入ったアイテムをいくつか選んでもらう\n",
    "category_list = [\"tops\", \"bottoms\", \"shoes\"]\n",
    "user_like_items = {\n",
    "    'tops': [],\n",
    "    'bottoms': [],\n",
    "    'shoes': []\n",
    "}\n",
    "user_dislike_items = {\n",
    "    'tops': [],\n",
    "    'bottoms': [],\n",
    "    'shoes': [],\n",
    "}\n",
    "\n",
    "item_list = {\n",
    "    'tops': dataset.tops,\n",
    "    'bottoms':  dataset.bottoms,\n",
    "    'shoes':  dataset.shoes,\n",
    "}\n",
    "\n",
    "for c in category_list:\n",
    "    fashion_items = random.sample(item_list[c], 10)\n",
    "    image = create_fashion_items_image(fashion_items)\n",
    "    image.show()\n",
    "    # favorite_item_set = list(map(int, input(f'気に入った {c} アイテムのidをスペース区切りで入力してください').split(',')))\n",
    "    favorite_item_set = [1,2,3]\n",
    "    for i in favorite_item_set:\n",
    "        user_like_items[c].append(fashion_items[i-1])\n",
    "\n",
    "for c in category_list:\n",
    "    \n",
    "    fashion_items = random.sample(item_list[c], 10)\n",
    "    image = create_fashion_items_image(fashion_items)\n",
    "    image.show()\n",
    "    # favorite_item_set = list(map(int, input(f'好きではない {c} アイテムのidをスペース区切りで入力してください').split(',')))\n",
    "    favorite_item_set = [1,2,3]\n",
    "    for i in favorite_item_set:\n",
    "        user_dislike_items[c].append(fashion_items[i-1]) "
   ]
  },
  {
   "cell_type": "code",
   "execution_count": null,
   "metadata": {},
   "outputs": [
    {
     "ename": "",
     "evalue": "",
     "output_type": "error",
     "traceback": [
      "\u001b[1;31mFailed to start the Kernel. \n",
      "\u001b[1;31mUnable to start Kernel 'base (Python 3.9.7)' due to a timeout waiting for the ports to get used. \n",
      "\u001b[1;31mView Jupyter <a href='command:jupyter.viewOutput'>log</a> for further details."
     ]
    }
   ],
   "source": [
    "import importlib\n",
    "\n",
    "import fashion_class\n",
    "from fashion_class import CapsuleWardrobeClass\n",
    "import CreateCW\n",
    "importlib.reload(CreateCW)\n",
    "importlib.reload(fashion_class)\n",
    "importlib.reload(fashion_class.CapsuleWardrobeClass)\n",
    "from fashion_class.CapsuleWardrobeClass import CapsuleWardrobe\n",
    "importlib.reload(CreateCW)\n",
    "from fashion_class.FashionItem import FashionItem\n",
    "import gc\n",
    "\n",
    "from CreateCW import change_item_recommandation, create_cw, search_alternate_item"
   ]
  },
  {
   "cell_type": "code",
   "execution_count": null,
   "metadata": {},
   "outputs": [
    {
     "ename": "",
     "evalue": "",
     "output_type": "error",
     "traceback": [
      "\u001b[1;31mFailed to start the Kernel. \n",
      "\u001b[1;31mUnable to start Kernel 'base (Python 3.9.7)' due to a timeout waiting for the ports to get used. \n",
      "\u001b[1;31mView Jupyter <a href='command:jupyter.viewOutput'>log</a> for further details."
     ]
    }
   ],
   "source": [
    "\n",
    "# CWを構築\n",
    "print(\"与えられた情報をもとにCWを構築しています。\")\n",
    "\n",
    "cw = create_cw(\n",
    "    {\n",
    "    'tops': [],\n",
    "    'bottoms': [],\n",
    "    'shoes': [],\n",
    "}, dataset)\n",
    "print(\"生成されたcwがこちらです\")\n",
    "# original_cw_score = cw.get_score()\n",
    "# q = cw.get_score()\n",
    "# print(\"scores\", original_cw_score, q)\n",
    "# 画像を表示\n",
    "while True:\n",
    "    original_cw_score = cw.get_score()\n",
    "    gc.collect()\n",
    "    image = create_cw_image(cw)\n",
    "    image.show()\n",
    "    item = input(\"出来上がったcwに対して、気に入らないitemを1つ tops:2 bottoms:3 のように指定してください。CWが完成した場合はqと入力してください > \")\n",
    "    if item == 'q':\n",
    "        break\n",
    "    kind, index = item.split(':')\n",
    "    index = int(index)\n",
    "    if kind != 'tops' and kind != 'bottoms' and kind != 'shoes':\n",
    "        raise Exception('ValueError')\n",
    "        # continue\n",
    "    new_item = search_alternate_item(cw, kind, index-1, dataset, user_like_items, user_dislike_items)\n",
    "    # 1枚多く計算する\n",
    "    # 既存のアイテムは外さない\n",
    "    required_items = {\n",
    "        'tops': cw.get_tops(),\n",
    "        'bottoms':cw.get_bottoms(),\n",
    "        'shoes':cw.get_shoes()\n",
    "    }\n",
    "    new_item_image = new_item.create_image()\n",
    "    new_item_image.show()\n",
    "\n",
    "    # 既存のアイテムのお気に入りの入れ替え\n",
    "    required_items[kind][index-1] = new_item\n",
    "    cw_replacement = CapsuleWardrobe(initial_items=required_items)\n",
    "    cw_replacement_score = cw_replacement.get_score()\n",
    "\n",
    "    alternate_cw = create_cw(required_items, dataset, max_length=cw.max_length + 1)\n",
    "    new_items = {\n",
    "        'tops': alternate_cw.get_tops()[-1],\n",
    "        'bottoms': alternate_cw.get_bottoms()[-1],\n",
    "        'shoes': alternate_cw.get_shoes()[-1]\n",
    "    }\n",
    "    image = create_cw_image(alternate_cw)\n",
    "    image.show()\n",
    "    recommended_change = change_item_recommandation(alternate_cw)\n",
    "    for (r, i) in recommended_change.items():\n",
    "        if r == kind or i+1 == 5:\n",
    "            continue\n",
    "        can_change = input(f'{r}の{i+1}番目を、新しい推薦アイテムと変えるとより良いCWになりますが、変えますか？ yes/no')\n",
    "        if can_change == 'yes':\n",
    "            required_items[r][i] = new_items[r]\n",
    "    cw = CapsuleWardrobe(initial_items=required_items)\n",
    "    cw_changed_score = cw.get_score()\n",
    "    print(f'start: {original_cw_score} replacement: {cw_replacement_score} changed: {cw_changed_score}')"
   ]
  },
  {
   "cell_type": "code",
   "execution_count": null,
   "metadata": {},
   "outputs": [
    {
     "ename": "",
     "evalue": "",
     "output_type": "error",
     "traceback": [
      "\u001b[1;31mFailed to start the Kernel. \n",
      "\u001b[1;31mUnable to start Kernel 'base (Python 3.9.7)' due to a timeout waiting for the ports to get used. \n",
      "\u001b[1;31mView Jupyter <a href='command:jupyter.viewOutput'>log</a> for further details."
     ]
    }
   ],
   "source": [
    "image = create_cw_image(cw)\n",
    "image.show()"
   ]
  },
  {
   "cell_type": "code",
   "execution_count": null,
   "metadata": {},
   "outputs": [
    {
     "ename": "",
     "evalue": "",
     "output_type": "error",
     "traceback": [
      "\u001b[1;31mFailed to start the Kernel. \n",
      "\u001b[1;31mUnable to start Kernel 'base (Python 3.9.7)' due to a timeout waiting for the ports to get used. \n",
      "\u001b[1;31mView Jupyter <a href='command:jupyter.viewOutput'>log</a> for further details."
     ]
    }
   ],
   "source": [
    "[i.item_id for i in cw.get_bottoms()]"
   ]
  },
  {
   "cell_type": "code",
   "execution_count": null,
   "metadata": {},
   "outputs": [
    {
     "ename": "",
     "evalue": "",
     "output_type": "error",
     "traceback": [
      "\u001b[1;31mFailed to start the Kernel. \n",
      "\u001b[1;31mUnable to start Kernel 'base (Python 3.9.7)' due to a timeout waiting for the ports to get used. \n",
      "\u001b[1;31mView Jupyter <a href='command:jupyter.viewOutput'>log</a> for further details."
     ]
    }
   ],
   "source": [
    "[i.item_id for i in cw.get_shoes()]"
   ]
  },
  {
   "cell_type": "code",
   "execution_count": null,
   "metadata": {},
   "outputs": [
    {
     "ename": "",
     "evalue": "",
     "output_type": "error",
     "traceback": [
      "\u001b[1;31mFailed to start the Kernel. \n",
      "\u001b[1;31mUnable to start Kernel 'base (Python 3.9.7)' due to a timeout waiting for the ports to get used. \n",
      "\u001b[1;31mView Jupyter <a href='command:jupyter.viewOutput'>log</a> for further details."
     ]
    }
   ],
   "source": [
    "[i.item_id for i in cw.get_tops()]"
   ]
  }
 ],
 "metadata": {
  "kernelspec": {
   "display_name": "base",
   "language": "python",
   "name": "python3"
  },
  "language_info": {
   "codemirror_mode": {
    "name": "ipython",
    "version": 3
   },
   "file_extension": ".py",
   "mimetype": "text/x-python",
   "name": "python",
   "nbconvert_exporter": "python",
   "pygments_lexer": "ipython3",
   "version": "3.9.7"
  },
  "orig_nbformat": 4
 },
 "nbformat": 4,
 "nbformat_minor": 2
}
