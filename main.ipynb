{
 "cells": [
  {
   "cell_type": "code",
   "execution_count": 1,
   "metadata": {},
   "outputs": [],
   "source": [
    "from create_fashion_items_image import create_cw_image, create_fashion_items_image\n",
    "from embedding_word import get_embedding_word\n",
    "from fashion_class.FashionItem import FashionItem\n",
    "from fashion_class.ImageStruct import ImageStruct\n",
    "from get_caption_model import get_caption_model\n",
    "from search_items_from_caption_embedding import search_items_from_caption_embedding"
   ]
  },
  {
   "cell_type": "code",
   "execution_count": 2,
   "metadata": {},
   "outputs": [
    {
     "name": "stdout",
     "output_type": "stream",
     "text": [
      "model初期化\n"
     ]
    },
    {
     "name": "stderr",
     "output_type": "stream",
     "text": [
      "Some weights of the model checkpoint at cl-tohoku/bert-base-japanese-v2 were not used when initializing BertModel: ['cls.predictions.transform.dense.weight', 'cls.predictions.transform.LayerNorm.bias', 'cls.predictions.decoder.bias', 'cls.predictions.bias', 'cls.predictions.transform.dense.bias', 'cls.seq_relationship.weight', 'cls.seq_relationship.bias', 'cls.predictions.decoder.weight', 'cls.predictions.transform.LayerNorm.weight']\n",
      "- This IS expected if you are initializing BertModel from the checkpoint of a model trained on another task or with another architecture (e.g. initializing a BertForSequenceClassification model from a BertForPreTraining model).\n",
      "- This IS NOT expected if you are initializing BertModel from the checkpoint of a model that you expect to be exactly identical (initializing a BertForSequenceClassification model from a BertForSequenceClassification model).\n"
     ]
    },
    {
     "name": "stdout",
     "output_type": "stream",
     "text": [
      "model初期化完了\n",
      "データセット初期化中\n",
      "【=================================================================================================== 】データセット初期化終了\n"
     ]
    }
   ],
   "source": [
    "# modelを定義\n",
    "print('model初期化')\n",
    "caption_model, tokenizer = get_caption_model()\n",
    "print('model初期化完了')\n",
    "\n",
    "print('データセット初期化中')\n",
    "# データセットを初期化\n",
    "annotation_file, tensor_file = \\\n",
    "      './data/anotation_new.csv', './data/resnet50_tensor.pt'\n",
    "dataset = ImageStruct(annotation_file, tensor_file)\n",
    "print('データセット初期化終了')\n"
   ]
  },
  {
   "cell_type": "code",
   "execution_count": 11,
   "metadata": {},
   "outputs": [
    {
     "name": "stdout",
     "output_type": "stream",
     "text": [
      " に基づき、画像検索を行います。\n",
      "[          ] 0.0% に基づき、画像検索を行います。\n",
      "[          ] 0.0% に基づき、画像検索を行います。\n",
      "[          ] 0.0%"
     ]
    }
   ],
   "source": [
    "# ユーザに表示して、気に入ったアイテムをいくつか選んでもらう\n",
    "category_list = [\"tops\", \"bottoms\", \"shoes\"]\n",
    "required_items = {}\n",
    "initial_items = {}\n",
    "for c in category_list:\n",
    "    required_items[c] = []\n",
    "    # 好きな単語をいくつか入力してもらう\n",
    "    favorite_word = input(f\"{c} を選びます。単語をスペース区切りで入力してください: \")\n",
    "    print(f'{favorite_word} に基づき、画像検索を行います。')\n",
    "    # captionのベクトル化を行い、それに合う画像を検索\n",
    "    caption_embedding = get_embedding_word(favorite_word, caption_model, tokenizer)\n",
    "\n",
    "    # imagesは、このような形式\n",
    "    # (-score, t_img_path, t_id)\n",
    "    fashion_items = search_items_from_caption_embedding(caption_embedding, dataset, c, limit=100)\n",
    "\n",
    "    image = create_fashion_items_image(fashion_items)\n",
    "    image.show()\n",
    "    favorite_item_set = list(map(int, input(f'気に入った {c} アイテムのidをスペース区切りで入力してください').split()))\n",
    "    for i in favorite_item_set:\n",
    "        required_items[c].append(fashion_items[i-1])\n",
    "    if len(required_items[c]) == 0:\n",
    "        # マジックナンバー\n",
    "        initial_items[c] = fashion_items[:4]\n",
    "    else:\n",
    "        initial_items[c] = []\n",
    "\n"
   ]
  },
  {
   "cell_type": "code",
   "execution_count": 14,
   "metadata": {},
   "outputs": [
    {
     "name": "stdout",
     "output_type": "stream",
     "text": [
      "与えられた情報をもとにCWを構築しています。\n",
      "0回目 増加分: 1.01\n",
      "0回目 増加分: 32.553962567883346\n",
      "生成されたcwがこちらです\n"
     ]
    },
    {
     "ename": "ValueError",
     "evalue": "not enough values to unpack (expected 2, got 1)",
     "output_type": "error",
     "traceback": [
      "\u001b[1;31m---------------------------------------------------------------------------\u001b[0m",
      "\u001b[1;31mValueError\u001b[0m                                Traceback (most recent call last)",
      "\u001b[1;32m~\\AppData\\Local\\Temp/ipykernel_14548/1478414432.py\u001b[0m in \u001b[0;36m<module>\u001b[1;34m\u001b[0m\n\u001b[0;32m     13\u001b[0m \u001b[1;31m# 画像を表示\u001b[0m\u001b[1;33m\u001b[0m\u001b[1;33m\u001b[0m\u001b[0m\n\u001b[0;32m     14\u001b[0m \u001b[0mcw\u001b[0m\u001b[1;33m.\u001b[0m\u001b[0mshow_images\u001b[0m\u001b[1;33m(\u001b[0m\u001b[1;33m)\u001b[0m\u001b[1;33m\u001b[0m\u001b[1;33m\u001b[0m\u001b[0m\n\u001b[1;32m---> 15\u001b[1;33m \u001b[0mitem_id\u001b[0m\u001b[1;33m,\u001b[0m \u001b[0mcomment\u001b[0m \u001b[1;33m=\u001b[0m \u001b[0minput\u001b[0m\u001b[1;33m(\u001b[0m\u001b[1;34m\"出来上がったcwに対して、itemid: ~~ のような形式で要望を入れてください > \"\u001b[0m\u001b[1;33m)\u001b[0m\u001b[1;33m.\u001b[0m\u001b[0msplit\u001b[0m\u001b[1;33m(\u001b[0m\u001b[1;34m':'\u001b[0m\u001b[1;33m)\u001b[0m\u001b[1;33m\u001b[0m\u001b[1;33m\u001b[0m\u001b[0m\n\u001b[0m",
      "\u001b[1;31mValueError\u001b[0m: not enough values to unpack (expected 2, got 1)"
     ]
    }
   ],
   "source": [
    "import importlib\n",
    "import CreateCW\n",
    "importlib.reload(CreateCW)\n",
    "from CreateCW import create_cw\n",
    "# CWを構築\n",
    "print(\"与えられた情報をもとにCWを構築しています。\")\n",
    "\n",
    "cw = create_cw(required_items, dataset, initial_items)\n",
    "image = create_cw_image(cw)\n",
    "image.show()\n",
    "print(\"生成されたcwがこちらです\")\n",
    "\n",
    "# 画像を表示\n",
    "cw.show_images()\n",
    "item_id, comment = input(\"出来上がったcwに対して、itemid: ~~ のような形式で要望を入れてください > \").split(':')"
   ]
  }
 ],
 "metadata": {
  "kernelspec": {
   "display_name": "base",
   "language": "python",
   "name": "python3"
  },
  "language_info": {
   "codemirror_mode": {
    "name": "ipython",
    "version": 3
   },
   "file_extension": ".py",
   "mimetype": "text/x-python",
   "name": "python",
   "nbconvert_exporter": "python",
   "pygments_lexer": "ipython3",
   "version": "3.9.7"
  },
  "orig_nbformat": 4
 },
 "nbformat": 4,
 "nbformat_minor": 2
}
