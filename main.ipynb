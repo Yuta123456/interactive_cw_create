{
 "cells": [
  {
   "cell_type": "code",
   "execution_count": 1,
   "metadata": {},
   "outputs": [],
   "source": [
    "from create_fashion_items_image import create_cw_image, create_fashion_items_image\n",
    "from embedding_word import get_embedding_word\n",
    "from fashion_class.FashionItem import FashionItem\n",
    "from fashion_class.ImageStruct import ImageStruct\n",
    "from get_caption_model import get_caption_model\n",
    "from search_items import search_items_from_caption_embedding"
   ]
  },
  {
   "cell_type": "code",
   "execution_count": 2,
   "metadata": {},
   "outputs": [
    {
     "name": "stdout",
     "output_type": "stream",
     "text": [
      "model初期化\n"
     ]
    },
    {
     "name": "stderr",
     "output_type": "stream",
     "text": [
      "Some weights of the model checkpoint at cl-tohoku/bert-base-japanese-v2 were not used when initializing BertModel: ['cls.predictions.transform.LayerNorm.weight', 'cls.seq_relationship.bias', 'cls.predictions.decoder.weight', 'cls.predictions.transform.dense.bias', 'cls.predictions.transform.dense.weight', 'cls.seq_relationship.weight', 'cls.predictions.decoder.bias', 'cls.predictions.bias', 'cls.predictions.transform.LayerNorm.bias']\n",
      "- This IS expected if you are initializing BertModel from the checkpoint of a model trained on another task or with another architecture (e.g. initializing a BertForSequenceClassification model from a BertForPreTraining model).\n",
      "- This IS NOT expected if you are initializing BertModel from the checkpoint of a model that you expect to be exactly identical (initializing a BertForSequenceClassification model from a BertForSequenceClassification model).\n"
     ]
    },
    {
     "name": "stdout",
     "output_type": "stream",
     "text": [
      "model初期化完了\n",
      "データセット初期化中\n",
      "【================================================================================================    】データセット初期化終了\n"
     ]
    }
   ],
   "source": [
    "# modelを定義\n",
    "print('model初期化')\n",
    "caption_model, tokenizer = get_caption_model()\n",
    "print('model初期化完了')\n",
    "\n",
    "print('データセット初期化中')\n",
    "# データセットを初期化\n",
    "annotation_file, tensor_file = \\\n",
    "      './data/anotation_new.csv', './data/resnet50_tensor.pt'\n",
    "dataset = ImageStruct(annotation_file, tensor_file, init_item_length=300)\n",
    "print('データセット初期化終了')\n"
   ]
  },
  {
   "cell_type": "code",
   "execution_count": 3,
   "metadata": {},
   "outputs": [
    {
     "name": "stdout",
     "output_type": "stream",
     "text": [
      " に基づき、画像検索を行います。\n",
      "[          ] 0.0% に基づき、画像検索を行います。\n",
      "[          ] 0.0% に基づき、画像検索を行います。\n",
      "[          ] 0.0%"
     ]
    }
   ],
   "source": [
    "# ユーザに表示して、気に入ったアイテムをいくつか選んでもらう\n",
    "category_list = [\"tops\", \"bottoms\", \"shoes\"]\n",
    "category_dataset = {\n",
    "    'tops': dataset.tops,\n",
    "    'bottoms': dataset.bottoms,\n",
    "    'shoes': dataset.shoes\n",
    "}\n",
    "required_items = {}\n",
    "initial_items = {}\n",
    "for c in category_list:\n",
    "    required_items[c] = []\n",
    "    # 好きな単語をいくつか入力してもらう\n",
    "    favorite_word = input(f\"{c} を選びます。単語をスペース区切りで入力してください: \")\n",
    "    print(f'{favorite_word} に基づき、画像検索を行います。')\n",
    "    # captionのベクトル化を行い、それに合う画像を検索\n",
    "    caption_embedding = get_embedding_word(favorite_word, caption_model, tokenizer)\n",
    "\n",
    "    # imagesは、このような形式\n",
    "    # (-score, t_img_path, t_id)\n",
    "    fashion_items = search_items_from_caption_embedding(caption_embedding, category_dataset[c], limit=100)\n",
    "\n",
    "    image = create_fashion_items_image(fashion_items)\n",
    "    image.show()\n",
    "    favorite_item_set = list(map(int, input(f'気に入った {c} アイテムのidをスペース区切りで入力してください').split()))\n",
    "    for i in favorite_item_set:\n",
    "        # TODO: エラーハンドリングしないと落ちる\n",
    "        required_items[c].append(fashion_items[i-1])\n",
    "    if len(required_items[c]) == 0:\n",
    "        # マジックナンバー\n",
    "        initial_items[c] = fashion_items[:4]\n",
    "    else:\n",
    "        initial_items[c] = []\n",
    "\n"
   ]
  },
  {
   "cell_type": "code",
   "execution_count": 4,
   "metadata": {},
   "outputs": [],
   "source": [
    "import importlib\n",
    "\n",
    "import fashion_class\n",
    "from fashion_class import CapsuleWardrobeClass\n",
    "import CreateCW\n",
    "importlib.reload(CreateCW)\n",
    "importlib.reload(fashion_class)\n",
    "importlib.reload(fashion_class.CapsuleWardrobeClass)\n",
    "from fashion_class.CapsuleWardrobeClass import CapsuleWardrobe\n",
    "importlib.reload(fashion_class.FashionItem)\n",
    "from fashion_class.FashionItem import FashionItem\n",
    "from CreateCW import change_item_recommandation, create_cw, search_alternate_item"
   ]
  },
  {
   "cell_type": "code",
   "execution_count": 5,
   "metadata": {},
   "outputs": [
    {
     "name": "stdout",
     "output_type": "stream",
     "text": [
      "与えられた情報をもとにCWを構築しています。\n",
      "0.34243330464716004 0.7708333333333334\n",
      "0回目 増加分: 1.1132666379804934\n",
      "0.41014199655765915 0.8541666666666666\n",
      "0回目 増加分: 0.15104202524383248\n",
      "0.41014199655765915 0.75\n",
      "0回目 増加分: -0.10416666666666674\n",
      "ロールバックします\n",
      "生成されたcwがこちらです\n"
     ]
    }
   ],
   "source": [
    "\n",
    "# CWを構築\n",
    "print(\"与えられた情報をもとにCWを構築しています。\")\n",
    "\n",
    "cw = create_cw(required_items, dataset, initial_items)\n",
    "print(\"生成されたcwがこちらです\")\n",
    "\n",
    "# 画像を表示\n",
    "while True:\n",
    "    image = create_cw_image(cw)\n",
    "    image.show()\n",
    "    item = input(\"出来上がったcwに対して、気に入らないitemを1つ tops:2 bottoms:3 のように指定してください。CWが完成した場合はqと入力してください > \")\n",
    "    if item == 'q':\n",
    "        break\n",
    "    kind, index = item.split(':')\n",
    "    index = int(index)\n",
    "    if kind != 'tops' and kind != 'bottoms' and kind != 'shoes':\n",
    "        raise Exception('ValueError')\n",
    "        # continue\n",
    "    new_item = search_alternate_item(cw, kind, index, dataset)\n",
    "    # 1枚多く計算する\n",
    "    # 既存のアイテムは外さない\n",
    "    required_items = {\n",
    "        'tops': cw.get_tops(),\n",
    "        'bottoms':cw.get_bottoms(),\n",
    "        'shoes':cw.get_shoes()\n",
    "    }\n",
    "    new_item_image = new_item.create_image()\n",
    "    new_item_image.show()\n",
    "\n",
    "    # 既存のアイテムのお気に入りの入れ替え\n",
    "    required_items[kind][index-1] = new_item\n",
    "\n",
    "    alternate_cw = create_cw(required_items, dataset, max_length=cw.max_length + 1)\n",
    "    new_items = {\n",
    "        'tops': alternate_cw.get_tops()[-1],\n",
    "        'bottoms': alternate_cw.get_bottoms()[-1],\n",
    "        'shoes': alternate_cw.get_shoes()[-1]\n",
    "    }\n",
    "    image = create_cw_image(alternate_cw)\n",
    "    image.show()\n",
    "    recommended_change = change_item_recommandation(alternate_cw)\n",
    "    for (r, i) in recommended_change.items():\n",
    "        if r == kind:\n",
    "            continue\n",
    "        can_change = input(f'{r}の{i+1}番目を、新しい推薦アイテムと変えるとより良いCWになりますが、変えますか？ yes/no')\n",
    "        if can_change == 'yes':\n",
    "            required_items[r][i] = new_items[r]\n",
    "    cw = CapsuleWardrobe(initial_items=required_items)\n",
    "    "
   ]
  },
  {
   "cell_type": "code",
   "execution_count": null,
   "metadata": {},
   "outputs": [],
   "source": [
    "image = create_cw_image(cw)\n",
    "image.show()"
   ]
  },
  {
   "cell_type": "code",
   "execution_count": null,
   "metadata": {},
   "outputs": [
    {
     "data": {
      "text/plain": [
       "[5470629, 5798812, 33533766, 9704312]"
      ]
     },
     "execution_count": 32,
     "metadata": {},
     "output_type": "execute_result"
    }
   ],
   "source": [
    "[i.item_id for i in cw.get_bottoms()]"
   ]
  },
  {
   "cell_type": "code",
   "execution_count": null,
   "metadata": {},
   "outputs": [
    {
     "data": {
      "text/plain": [
       "[15458320, 15451401, 38730088, 37827036]"
      ]
     },
     "execution_count": 33,
     "metadata": {},
     "output_type": "execute_result"
    }
   ],
   "source": [
    "[i.item_id for i in cw.get_shoes()]"
   ]
  },
  {
   "cell_type": "code",
   "execution_count": null,
   "metadata": {},
   "outputs": [
    {
     "data": {
      "text/plain": [
       "[37711534, 11053589, 9591359, 40881584]"
      ]
     },
     "execution_count": 34,
     "metadata": {},
     "output_type": "execute_result"
    }
   ],
   "source": [
    "[i.item_id for i in cw.get_tops()]"
   ]
  }
 ],
 "metadata": {
  "kernelspec": {
   "display_name": "base",
   "language": "python",
   "name": "python3"
  },
  "language_info": {
   "codemirror_mode": {
    "name": "ipython",
    "version": 3
   },
   "file_extension": ".py",
   "mimetype": "text/x-python",
   "name": "python",
   "nbconvert_exporter": "python",
   "pygments_lexer": "ipython3",
   "version": "3.9.7"
  },
  "orig_nbformat": 4
 },
 "nbformat": 4,
 "nbformat_minor": 2
}
