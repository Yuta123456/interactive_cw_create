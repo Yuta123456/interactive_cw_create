{
 "cells": [
  {
   "cell_type": "code",
   "execution_count": 1,
   "metadata": {},
   "outputs": [],
   "source": [
    "from create_fashion_items_image import create_cw_image, create_fashion_items_image\n",
    "from embedding_word import get_embedding_word\n",
    "from fashion_class.FashionItem import FashionItem\n",
    "from fashion_class.ImageStruct import ImageStruct\n",
    "from get_caption_model import get_caption_model\n",
    "from search_items import search_items_from_caption_embedding"
   ]
  },
  {
   "cell_type": "code",
   "execution_count": 2,
   "metadata": {},
   "outputs": [
    {
     "name": "stdout",
     "output_type": "stream",
     "text": [
      "model初期化\n"
     ]
    },
    {
     "name": "stderr",
     "output_type": "stream",
     "text": [
      "Some weights of the model checkpoint at cl-tohoku/bert-base-japanese-v2 were not used when initializing BertModel: ['cls.predictions.transform.dense.weight', 'cls.predictions.transform.LayerNorm.weight', 'cls.predictions.transform.LayerNorm.bias', 'cls.predictions.decoder.weight', 'cls.seq_relationship.weight', 'cls.predictions.bias', 'cls.predictions.decoder.bias', 'cls.predictions.transform.dense.bias', 'cls.seq_relationship.bias']\n",
      "- This IS expected if you are initializing BertModel from the checkpoint of a model trained on another task or with another architecture (e.g. initializing a BertForSequenceClassification model from a BertForPreTraining model).\n",
      "- This IS NOT expected if you are initializing BertModel from the checkpoint of a model that you expect to be exactly identical (initializing a BertForSequenceClassification model from a BertForSequenceClassification model).\n"
     ]
    },
    {
     "name": "stdout",
     "output_type": "stream",
     "text": [
      "model初期化完了\n",
      "データセット初期化中\n",
      "【================================================================================================    】データセット初期化終了\n"
     ]
    }
   ],
   "source": [
    "# modelを定義\n",
    "print('model初期化')\n",
    "caption_model, tokenizer = get_caption_model()\n",
    "print('model初期化完了')\n",
    "\n",
    "print('データセット初期化中')\n",
    "# データセットを初期化\n",
    "annotation_file, tensor_file = \\\n",
    "      './data/anotation_new.csv', './data/resnet50_tensor.pt'\n",
    "dataset = ImageStruct(annotation_file, tensor_file, init_item_length=300)\n",
    "print('データセット初期化終了')\n"
   ]
  },
  {
   "cell_type": "code",
   "execution_count": 3,
   "metadata": {},
   "outputs": [
    {
     "name": "stdout",
     "output_type": "stream",
     "text": [
      " に基づき、画像検索を行います。\n",
      "[          ] 0.0% に基づき、画像検索を行います。\n",
      "[          ] 0.0% に基づき、画像検索を行います。\n",
      "[          ] 0.0%"
     ]
    }
   ],
   "source": [
    "# ユーザに表示して、気に入ったアイテムをいくつか選んでもらう\n",
    "category_list = [\"tops\", \"bottoms\", \"shoes\"]\n",
    "category_dataset = {\n",
    "    'tops': dataset.tops,\n",
    "    'bottoms': dataset.bottoms,\n",
    "    'shoes': dataset.shoes\n",
    "}\n",
    "required_items = {}\n",
    "initial_items = {}\n",
    "for c in category_list:\n",
    "    required_items[c] = []\n",
    "    # 好きな単語をいくつか入力してもらう\n",
    "    favorite_word = input(f\"{c} を選びます。単語をスペース区切りで入力してください: \")\n",
    "    print(f'{favorite_word} に基づき、画像検索を行います。')\n",
    "    # captionのベクトル化を行い、それに合う画像を検索\n",
    "    caption_embedding = get_embedding_word(favorite_word, caption_model, tokenizer)\n",
    "\n",
    "    # imagesは、このような形式\n",
    "    # (-score, t_img_path, t_id)\n",
    "    fashion_items = search_items_from_caption_embedding(caption_embedding, category_dataset[c], limit=100)\n",
    "\n",
    "    image = create_fashion_items_image(fashion_items)\n",
    "    image.show()\n",
    "    favorite_item_set = list(map(int, input(f'気に入った {c} アイテムのidをスペース区切りで入力してください').split()))\n",
    "    for i in favorite_item_set:\n",
    "        # TODO: エラーハンドリングしないと落ちる\n",
    "        required_items[c].append(fashion_items[i-1])\n",
    "    if len(required_items[c]) == 0:\n",
    "        # マジックナンバー\n",
    "        initial_items[c] = fashion_items[:4]\n",
    "    else:\n",
    "        initial_items[c] = []\n",
    "\n"
   ]
  },
  {
   "cell_type": "code",
   "execution_count": 40,
   "metadata": {},
   "outputs": [],
   "source": [
    "import importlib\n",
    "\n",
    "import fashion_class\n",
    "from fashion_class import CapsuleWardrobeClass\n",
    "from fashion_class.CapsuleWardrobeClass import CapsuleWardrobe\n",
    "import CreateCW\n",
    "importlib.reload(CreateCW)\n",
    "importlib.reload(fashion_class)\n",
    "from fashion_class.FashionItem import FashionItem\n",
    "importlib.reload(CapsuleWardrobeClass)\n",
    "from CreateCW import change_item_recommandation, create_cw, search_alternate_item"
   ]
  },
  {
   "cell_type": "code",
   "execution_count": 41,
   "metadata": {},
   "outputs": [
    {
     "name": "stdout",
     "output_type": "stream",
     "text": [
      "与えられた情報をもとにCWを構築しています。\n",
      "0回目 増加分: 1.01\n",
      "0回目 増加分: 454280\n",
      "生成されたcwがこちらです\n"
     ]
    }
   ],
   "source": [
    "\n",
    "# CWを構築\n",
    "print(\"与えられた情報をもとにCWを構築しています。\")\n",
    "\n",
    "cw = create_cw(required_items, dataset, initial_items)\n",
    "print(\"生成されたcwがこちらです\")\n",
    "\n",
    "# 画像を表示\n",
    "while True:\n",
    "    image = create_cw_image(cw)\n",
    "    image.show()\n",
    "    item = input(\"出来上がったcwに対して、気に入らないitemを1つ tops:2 bottoms:3 のように指定してください。CWが完成した場合はqと入力してください > \")\n",
    "    if item == 'q':\n",
    "        break\n",
    "    kind, index = item.split(':')\n",
    "    new_item = search_alternate_item(cw, kind, index, dataset)\n",
    "    # 1枚多く計算する\n",
    "    # 既存のアイテムは外さない\n",
    "    required_items = {\n",
    "        'tops': cw.tops,\n",
    "        'bottoms':cw.bottoms,\n",
    "        'shoes':cw.shoes\n",
    "    }\n",
    "    # 既存のアイテムのお気に入りの入れ替え\n",
    "    required_items[kind][index-1] = new_item\n",
    "\n",
    "    cw = create_cw(required_items, dataset, max_length=cw.max_length + 1)\n",
    "    recommended_change = change_item_recommandation(cw)\n",
    "    for (r, i) in recommended_change.items():\n",
    "        if r == kind:\n",
    "            continue\n",
    "        can_change = input(f'{r}の{i+1}番目を、新しい推薦アイテムと変えるとより良いCWになりますが、変えますか？')\n",
    "        # if can_change == 'yes':\n",
    "        \n",
    "\n",
    "    "
   ]
  },
  {
   "cell_type": "code",
   "execution_count": 31,
   "metadata": {},
   "outputs": [],
   "source": [
    "image = create_cw_image(cw)\n",
    "image.show()"
   ]
  },
  {
   "cell_type": "code",
   "execution_count": 42,
   "metadata": {},
   "outputs": [
    {
     "data": {
      "text/plain": [
       "[7686717, 40450511, 40450511, 40450511]"
      ]
     },
     "execution_count": 42,
     "metadata": {},
     "output_type": "execute_result"
    }
   ],
   "source": [
    "[i.item_id for i in cw.get_bottoms()]"
   ]
  },
  {
   "cell_type": "code",
   "execution_count": 43,
   "metadata": {},
   "outputs": [
    {
     "data": {
      "text/plain": [
       "[34135184, 2619111, 2619111, 3005645]"
      ]
     },
     "execution_count": 43,
     "metadata": {},
     "output_type": "execute_result"
    }
   ],
   "source": [
    "[i.item_id for i in cw.get_shoes()]"
   ]
  },
  {
   "cell_type": "code",
   "execution_count": 44,
   "metadata": {},
   "outputs": [
    {
     "data": {
      "text/plain": [
       "[9446406, 4108331, 36850737, 36850737]"
      ]
     },
     "execution_count": 44,
     "metadata": {},
     "output_type": "execute_result"
    }
   ],
   "source": [
    "[i.item_id for i in cw.get_tops()]"
   ]
  }
 ],
 "metadata": {
  "kernelspec": {
   "display_name": "base",
   "language": "python",
   "name": "python3"
  },
  "language_info": {
   "codemirror_mode": {
    "name": "ipython",
    "version": 3
   },
   "file_extension": ".py",
   "mimetype": "text/x-python",
   "name": "python",
   "nbconvert_exporter": "python",
   "pygments_lexer": "ipython3",
   "version": "3.9.7"
  },
  "orig_nbformat": 4
 },
 "nbformat": 4,
 "nbformat_minor": 2
}
