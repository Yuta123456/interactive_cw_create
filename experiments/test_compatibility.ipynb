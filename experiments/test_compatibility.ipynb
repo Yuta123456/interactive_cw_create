{
 "cells": [
  {
   "cell_type": "code",
   "execution_count": 1,
   "metadata": {},
   "outputs": [],
   "source": [
    "import sys\n",
    "import os\n",
    "sys.path.append(os.path.abspath(\"../\"))\n",
    "\n",
    "from fashion_class.Coordinate import Coordinate\n",
    "from fashion_class.ImageStruct import ImageStruct"
   ]
  },
  {
   "cell_type": "code",
   "execution_count": 2,
   "metadata": {},
   "outputs": [
    {
     "name": "stdout",
     "output_type": "stream",
     "text": [
      "【=================================================================================================== 】"
     ]
    }
   ],
   "source": [
    "# データセットを初期化\n",
    "annotation_file, tensor_file = \\\n",
    "      '../data/anotation_new.csv', '../data/resnet50_tensor.pt'\n",
    "dataset = ImageStruct(annotation_file, tensor_file)"
   ]
  },
  {
   "cell_type": "code",
   "execution_count": 3,
   "metadata": {},
   "outputs": [],
   "source": [
    "tops = dataset.tops\n",
    "bottoms = dataset.bottoms\n",
    "shoes = dataset.shoes"
   ]
  },
  {
   "cell_type": "code",
   "execution_count": 4,
   "metadata": {},
   "outputs": [
    {
     "name": "stdout",
     "output_type": "stream",
     "text": [
      "86318519\n",
      " 99%終了"
     ]
    }
   ],
   "source": [
    "import heapq\n",
    "top_heap = []\n",
    "worst_heap = []\n",
    "c = 0\n",
    "length = len(tops) * len(bottoms) * len(shoes)\n",
    "print(length)\n",
    "com = []\n",
    "for t in tops:\n",
    "    for b in bottoms:\n",
    "        for s in shoes:\n",
    "            c += 1\n",
    "            coordinate = Coordinate(t, b, s)\n",
    "            compatibility = coordinate.get_compatibility()\n",
    "            # print(compatibility, s.item_info)\n",
    "            com.append(compatibility)\n",
    "            heapq.heappush(top_heap, (compatibility, coordinate))\n",
    "            heapq.heappush(worst_heap, (-1 * compatibility, coordinate))\n",
    "\n",
    "            if len(top_heap) > 10:\n",
    "                heapq.heappop(top_heap)\n",
    "            \n",
    "            if len(worst_heap) > 10:\n",
    "                heapq.heappop(worst_heap)\n",
    "            if (c % 1000 == 0):\n",
    "                print(f\"\\r {c * 100 // length}%終了\", end='')\n"
   ]
  },
  {
   "cell_type": "code",
   "execution_count": 5,
   "metadata": {},
   "outputs": [
    {
     "name": "stdout",
     "output_type": "stream",
     "text": [
      "[14525, 14525, 14525, 14525, 14525, 14525, 14525, 14525, 14525, 14525]\n"
     ]
    }
   ],
   "source": [
    "print([t[0] for t in top_heap])"
   ]
  },
  {
   "cell_type": "code",
   "execution_count": 10,
   "metadata": {},
   "outputs": [],
   "source": [
    "top_coordinate = heapq.heappop(top_heap)"
   ]
  },
  {
   "cell_type": "code",
   "execution_count": 19,
   "metadata": {},
   "outputs": [
    {
     "name": "stdout",
     "output_type": "stream",
     "text": [
      "D:/M1/fashion/IQON/IQON3000\\1954140\\3108414/9008338_m.jpg\n",
      "D:/M1/fashion/IQON/IQON3000\\1513834\\2490167/4072315_m.jpg\n",
      "D:/M1/fashion/IQON/IQON3000\\2596083\\4066841/42840932_m.jpg\n",
      "D:/M1/fashion/IQON/IQON3000\\2636781\\3994188/36547783_m.jpg\n",
      "D:/M1/fashion/IQON/IQON3000\\1598374\\3689343/12274889_m.jpg\n",
      "D:/M1/fashion/IQON/IQON3000\\2279387\\3771831/16562958_m.jpg\n",
      "D:/M1/fashion/IQON/IQON3000\\6889\\3875775/9010511_m.jpg\n",
      "D:/M1/fashion/IQON/IQON3000\\186030\\1366526/2632991_m.jpg\n"
     ]
    }
   ],
   "source": [
    "print(\"\\n\".join([t[1].shoes.img_path for t in top_heap]))"
   ]
  },
  {
   "cell_type": "code",
   "execution_count": null,
   "metadata": {},
   "outputs": [],
   "source": [
    "print()"
   ]
  },
  {
   "cell_type": "code",
   "execution_count": 8,
   "metadata": {},
   "outputs": [],
   "source": [
    "from PIL import Image\n",
    "\n",
    "def create_coodinates_images(coordinates: list[Coordinate]):\n",
    "    images = [c[1].create_coordinate_image() for c in coordinates]\n",
    "    width, height = images[0].size\n",
    "    input_image = Image.new('RGB', (width * len(coordinates), height), (255, 255, 255))\n",
    "    for i, image in enumerate(images):\n",
    "        x = i * width\n",
    "        input_image.paste(image, (x, 0))\n",
    "    return input_image"
   ]
  },
  {
   "cell_type": "code",
   "execution_count": 9,
   "metadata": {},
   "outputs": [],
   "source": [
    "create_coodinates_images(top_heap).save('top_coordinates.png')\n",
    "create_coodinates_images(worst_heap).save('worst_coordinates.png')"
   ]
  }
 ],
 "metadata": {
  "kernelspec": {
   "display_name": "base",
   "language": "python",
   "name": "python3"
  },
  "language_info": {
   "codemirror_mode": {
    "name": "ipython",
    "version": 3
   },
   "file_extension": ".py",
   "mimetype": "text/x-python",
   "name": "python",
   "nbconvert_exporter": "python",
   "pygments_lexer": "ipython3",
   "version": "3.9.7"
  },
  "orig_nbformat": 4
 },
 "nbformat": 4,
 "nbformat_minor": 2
}
