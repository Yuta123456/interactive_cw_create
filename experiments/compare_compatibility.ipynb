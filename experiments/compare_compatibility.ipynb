{
 "cells": [
  {
   "cell_type": "code",
   "execution_count": null,
   "metadata": {},
   "outputs": [],
   "source": [
    "import sys\n",
    "import os\n",
    "sys.path.append(os.path.abspath(\"../\"))\n",
    "\n",
    "from fashion_class.Coordinate import Coordinate\n",
    "from fashion_class.ImageStruct import ImageStruct"
   ]
  },
  {
   "cell_type": "code",
   "execution_count": null,
   "metadata": {},
   "outputs": [],
   "source": [
    "# データセットを初期化\n",
    "annotation_file, tensor_file = \\\n",
    "      '../data/anotation_new.csv', '../data/resnet50_tensor.pt'\n",
    "dataset = ImageStruct(annotation_file, tensor_file, init_item_length = 300000)"
   ]
  },
  {
   "cell_type": "code",
   "execution_count": null,
   "metadata": {},
   "outputs": [],
   "source": [
    "tops = dataset.tops\n",
    "bottoms = dataset.bottoms\n",
    "shoes = dataset.shoes"
   ]
  },
  {
   "cell_type": "code",
   "execution_count": null,
   "metadata": {},
   "outputs": [],
   "source": [
    "import heapq\n",
    "c = 0\n",
    "length = len(tops) * len(bottoms) * len(shoes)\n",
    "print(length)\n",
    "lda_base = []\n",
    "ctm_base = []\n",
    "com = []\n",
    "for t in tops:\n",
    "    for b in bottoms:\n",
    "        for s in shoes:\n",
    "            c += 1\n",
    "            coordinate = Coordinate(t, b, s)\n",
    "            compatibility = coordinate.get_compatibility()\n",
    "            # category = item[KEY].split(' × ')[0]\n",
    "            # print(compatibility, s.item_info)\n",
    "            com.append(compatibility)\n",
    "            if (c % 1000 == 0):\n",
    "                print(f\"\\r {c * 100 // length}%終了\", end='')\n"
   ]
  }
 ],
 "metadata": {
  "language_info": {
   "name": "python"
  },
  "orig_nbformat": 4
 },
 "nbformat": 4,
 "nbformat_minor": 2
}
