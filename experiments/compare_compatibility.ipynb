{
 "cells": [
  {
   "cell_type": "code",
   "execution_count": 1,
   "metadata": {},
   "outputs": [],
   "source": [
    "import sys\n",
    "import os\n",
    "sys.path.append(os.path.abspath(\"../\"))\n",
    "sys.path.append(os.path.abspath(\"../..\"))\n",
    "from fashion_class.Coordinate import Coordinate\n",
    "from fashion_class.ImageStruct import ImageStruct\n",
    "import pandas as pd\n",
    "import json"
   ]
  },
  {
   "cell_type": "code",
   "execution_count": 2,
   "metadata": {},
   "outputs": [
    {
     "name": "stdout",
     "output_type": "stream",
     "text": [
      "【================================================================================================    】"
     ]
    }
   ],
   "source": [
    "# データセットを初期化\n",
    "annotation_file, tensor_file = \\\n",
    "      '../data/anotation_new.csv', '../data/resnet50_tensor.pt'\n",
    "dataset = ImageStruct(annotation_file, tensor_file, init_item_length = 300)"
   ]
  },
  {
   "cell_type": "code",
   "execution_count": 8,
   "metadata": {},
   "outputs": [],
   "source": [
    "with open('D:\\M1/fashion/lda_model/data/fashion_clip.txt', mode=\"r\", encoding=\"utf-8\") as f:\n",
    "    data = f.read().splitlines()\n",
    "item_info = {}\n",
    "for i in data:\n",
    "    i = i.strip()\n",
    "    item_id, category, color = i.split(' ')\n",
    "    item_info[int(item_id)] = f'{category} {color}'\n"
   ]
  },
  {
   "cell_type": "code",
   "execution_count": 9,
   "metadata": {},
   "outputs": [],
   "source": [
    "tops = dataset.tops\n",
    "bottoms = dataset.bottoms\n",
    "shoes = dataset.shoes"
   ]
  },
  {
   "cell_type": "code",
   "execution_count": 10,
   "metadata": {},
   "outputs": [],
   "source": [
    "from fashion_class.FashionItem import FashionItem\n",
    "import numpy as np\n",
    "import tomotopy as tp\n",
    "from lda_model.util.ignore_items import is_ignore_items\n",
    "from lda_model.util.is_stopword import is_stopword\n",
    "from lda_model.preProcessing.preprocessing import preprocessing\n",
    "\n",
    "from lda_model.util.parse_sentence import parse_sentence\n",
    "\n",
    "# モデルを読み込む\n",
    "# D:\\M1\\fashion\\optimization\\experiments\\lda-fashion-clip-T-100-M-10000-B-1000.bin\n",
    "mdl = tp.LDAModel.load('lda-fashion-clip-T-100-M-10000-B-1000.bin')\n",
    "def get_lda_base_compatibility(t: FashionItem, b: FashionItem, s: FashionItem, mdl):\n",
    "    doc = []\n",
    "    for item in [t, b, s]:\n",
    "        item = item.item_info\n",
    "        if (\"itemId\" not in item or item[\"itemId\"] == None):\n",
    "            continue\n",
    "        item_id = item[\"itemId\"]\n",
    "        if item_id not in item_info:\n",
    "            continue\n",
    "        doc.append(item_info[item_id])\n",
    "    print(doc)\n",
    "    if len(doc) == 0:\n",
    "        return 0\n",
    "    inf_doc = mdl.make_doc(doc)\n",
    "    log_prob = mdl.infer(inf_doc, iter=500)[1]\n",
    "    return log_prob\n"
   ]
  },
  {
   "cell_type": "code",
   "execution_count": 11,
   "metadata": {},
   "outputs": [],
   "source": [
    "# # c = 0\n",
    "# length = len(tops) * len(bottoms) * len(shoes)\n",
    "# print(length)\n",
    "\n",
    "# for t in tops:\n",
    "#     for b in bottoms:\n",
    "#         for s in shoes:\n",
    "#             c += 1\n",
    "#             coordinate = Coordinate(t, b, s)\n",
    "#             compatibility = coordinate.get_compatibility()\n",
    "#             com.append(compatibility)\n",
    "#             lda_base.append(get_lda_base_compatibility(t, b, s, mdl))\n",
    "#             if (c % 1000 == 0):\n",
    "#                 print(f\"\\r {c * 100 // length}%終了\", end='')\n",
    "\n"
   ]
  },
  {
   "cell_type": "code",
   "execution_count": 12,
   "metadata": {},
   "outputs": [],
   "source": [
    "with open('D:/M1/fashion/optimization/data/shoes_count.json', 'r', encoding='shift-jis') as f:\n",
    "    new_compatibility = json.load(f)"
   ]
  },
  {
   "cell_type": "code",
   "execution_count": 26,
   "metadata": {},
   "outputs": [
    {
     "name": "stdout",
     "output_type": "stream",
     "text": [
      " 100%終了"
     ]
    }
   ],
   "source": [
    "count = {}\n",
    "lda_base = []\n",
    "com = []\n",
    "KEY = \"category x color\"\n",
    "with open('D:\\M1/fashion/lda_model/data/filepath/train.txt', 'r', encoding=\"utf-8\") as f:\n",
    "    filepaths = f.read().splitlines()\n",
    "filepaths = filepaths[:50000]\n",
    "file_count = len(filepaths)\n",
    "# output_file = \"D:\\M1/fashion/lda_model/data/fashion_clip/train.txt\"\n",
    "count = 0\n",
    "for fp in filepaths:\n",
    "    count += 1\n",
    "    try:\n",
    "        json_dict = pd.read_json(fp, encoding='shift-jis')\n",
    "    except Exception as e:\n",
    "        continue\n",
    "    doc = []\n",
    "    flags = [True, True, True]\n",
    "    items = [None, None, None]\n",
    "    for item in json_dict[\"items\"]:\n",
    "        if (\"itemId\" not in item or item[\"itemId\"] == None):\n",
    "            continue\n",
    "        if (KEY not in item or len(item[KEY]) == None):\n",
    "            continue\n",
    "        item_id = item[\"itemId\"]\n",
    "        category = item[KEY].strip()\n",
    "        if item_id not in item_info:\n",
    "            continue\n",
    "        c = FashionItem.get_category(None, category.split(' × ')[0])\n",
    "        q, w = item_info[item_id].split(' ')\n",
    "        doc.append(q)\n",
    "        doc.append(w)\n",
    "        if c == 'tops' and flags[0]:\n",
    "            flags[0] = False\n",
    "            items[0] = category\n",
    "        elif c == 'bottoms' and flags[1]:\n",
    "            flags[1] = False\n",
    "            items[1] = category\n",
    "        elif c == 'shoes' and flags[2]:\n",
    "            flags[2] = False\n",
    "            items[2] = category\n",
    "        \n",
    "\n",
    "    if len(doc) == 0 or None in items:\n",
    "        continue\n",
    "    inf_doc = mdl.make_doc(doc)\n",
    "    log_prob = mdl.infer(inf_doc, iter=500)[1]\n",
    "    lda_base.append(log_prob)\n",
    "    com.append(new_compatibility[items[0]][items[1]][items[2]])\n",
    "\n",
    "    if (count % 10 == 0):\n",
    "        print(f\"\\r {count * 100 // file_count}%終了\", end='')\n",
    "\n",
    "        "
   ]
  },
  {
   "cell_type": "code",
   "execution_count": 27,
   "metadata": {},
   "outputs": [],
   "source": [
    "with open('compatibility.txt', 'w') as f:\n",
    "    for (c1, c2) in zip(com, lda_base):\n",
    "        # print(c1, c2)\n",
    "        f.write(f'{float(c1):.5} {float(c2):.5}\\n')"
   ]
  },
  {
   "cell_type": "code",
   "execution_count": 11,
   "metadata": {},
   "outputs": [
    {
     "data": {
      "text/plain": [
       "'ニット × 黒（ブラック）'"
      ]
     },
     "execution_count": 11,
     "metadata": {},
     "output_type": "execute_result"
    }
   ],
   "source": []
  },
  {
   "cell_type": "code",
   "execution_count": null,
   "metadata": {},
   "outputs": [],
   "source": []
  }
 ],
 "metadata": {
  "kernelspec": {
   "display_name": "base",
   "language": "python",
   "name": "python3"
  },
  "language_info": {
   "codemirror_mode": {
    "name": "ipython",
    "version": 3
   },
   "file_extension": ".py",
   "mimetype": "text/x-python",
   "name": "python",
   "nbconvert_exporter": "python",
   "pygments_lexer": "ipython3",
   "version": "3.9.7"
  },
  "orig_nbformat": 4
 },
 "nbformat": 4,
 "nbformat_minor": 2
}
