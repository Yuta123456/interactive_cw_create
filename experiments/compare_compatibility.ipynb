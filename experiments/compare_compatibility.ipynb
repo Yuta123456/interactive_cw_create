{
 "cells": [
  {
   "cell_type": "code",
   "execution_count": null,
   "metadata": {},
   "outputs": [],
   "source": [
    "import sys\n",
    "import os\n",
    "sys.path.append(os.path.abspath(\"../\"))\n",
    "sys.path.append(os.path.abspath(\"../..\"))\n",
    "from fashion_class.Coordinate import Coordinate\n",
    "from fashion_class.ImageStruct import ImageStruct"
   ]
  },
  {
   "cell_type": "code",
   "execution_count": null,
   "metadata": {},
   "outputs": [],
   "source": [
    "# データセットを初期化\n",
    "annotation_file, tensor_file = \\\n",
    "      '../data/anotation_new.csv', '../data/resnet50_tensor.pt'\n",
    "dataset = ImageStruct(annotation_file, tensor_file, init_item_length = 300000)"
   ]
  },
  {
   "cell_type": "code",
   "execution_count": null,
   "metadata": {},
   "outputs": [],
   "source": [
    "tops = dataset.tops\n",
    "bottoms = dataset.bottoms\n",
    "shoes = dataset.shoes"
   ]
  },
  {
   "cell_type": "code",
   "execution_count": null,
   "metadata": {},
   "outputs": [],
   "source": [
    "from fashion_class.FashionItem import FashionItem\n",
    "import numpy as np\n",
    "import tomotopy as tp\n",
    "from lda_model.util.ignore_items import is_ignore_items\n",
    "from lda_model.util.is_stopword import is_stopword\n",
    "from preProcessing.preprocessing import preprocessing\n",
    "\n",
    "from lda_model.util.parse_sentence import parse_sentence\n",
    "\n",
    "# モデルを読み込む\n",
    "mdl = tp.CTModel.load('ctm-T-10-M-10000-R-10-B-3000.bin')\n",
    "def get_ctm_base_compatibility(t: FashionItem, b: FashionItem, s: FashionItem, mdl):\n",
    "    doc = []\n",
    "    for item in [t, b, s]:\n",
    "        category = item.category.split(' × ')[0]\n",
    "        if (\"expressions\" not in item or\n",
    "                len(item[\"expressions\"]) == 0 or\n",
    "                category == \"\" or\n",
    "                is_ignore_items(category)):\n",
    "            continue\n",
    "        rm_br_str = preprocessing(item.item_info[\"expressions\"][0], debug=False)\n",
    "        res = parse_sentence(rm_br_str)\n",
    "        for word, hinshi in res:\n",
    "            if is_stopword(hinshi) or len(word) <= 1:\n",
    "                continue\n",
    "            word = category + \"_\" + word\n",
    "            doc += [word]\n",
    "    if len(doc) == 0:\n",
    "        return 0\n",
    "    inf_doc = mdl.make_doc(doc)\n",
    "    log_prob = mdl.infer(inf_doc, iter=500)[1]\n",
    "    return log_prob\n"
   ]
  },
  {
   "cell_type": "code",
   "execution_count": null,
   "metadata": {},
   "outputs": [],
   "source": [
    "c = 0\n",
    "KEY = \"category x color\"\n",
    "length = len(tops) * len(bottoms) * len(shoes)\n",
    "print(length)\n",
    "ctm_base = []\n",
    "com = []\n",
    "for t in tops:\n",
    "    for b in bottoms:\n",
    "        for s in shoes:\n",
    "            c += 1\n",
    "            coordinate = Coordinate(t, b, s)\n",
    "            compatibility = coordinate.get_compatibility()\n",
    "            com.append(compatibility)\n",
    "            ctm_base.append(get_ctm_base_compatibility(t, b, s, mdl))\n",
    "            if (c % 1000 == 0):\n",
    "                print(f\"\\r {c * 100 // length}%終了\", end='')\n"
   ]
  }
 ],
 "metadata": {
  "language_info": {
   "name": "python"
  },
  "orig_nbformat": 4
 },
 "nbformat": 4,
 "nbformat_minor": 2
}
