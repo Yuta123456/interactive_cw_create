{
 "cells": [
  {
   "cell_type": "code",
   "execution_count": null,
   "metadata": {},
   "outputs": [],
   "source": [
    "INIT_ITEM_LENGTH = 1000\n",
    "new_dir_path = f'D:/M1/fashion/optimization/data/versatility/init-item-length-{INIT_ITEM_LENGTH}'\n",
    "try:\n",
    "    os.makedirs(new_dir_path)\n",
    "except FileExistsError:\n",
    "    pass\n",
    "for i in range(1000):\n",
    "    gc.collect()\n",
    "    dataset = ImageStruct(annotation_file, tensor_file, init_item_length=INIT_ITEM_LENGTH)\n",
    "    target_items = {\n",
    "        'tops':torch.stack([i.img_tensor for i in dataset.get_tops()]),\n",
    "        'bottoms':torch.stack([i.img_tensor for i in dataset.get_bottoms()]),\n",
    "        'shoes':torch.stack([i.img_tensor for i in dataset.get_shoes()]),\n",
    "    }\n",
    "\n",
    "    initial_items = {\n",
    "        'tops': random.sample(dataset.get_tops(), 4),\n",
    "        'bottoms':random.sample(dataset.get_bottoms(), 4),\n",
    "        'shoes':random.sample(dataset.get_shoes(), 4),\n",
    "    }\n",
    "    aivcw = AllItemVersatilityCapsuleWardrobe(initial_items, target_items, INIT_ITEM_LENGTH // 50)\n",
    "    ccw = ClusterCapsuleWardrobe(initial_items, target_items)\n",
    "    cw = ClusterCapsuleWardrobe(initial_items, target_items)\n",
    "    aivcw = create_cw(aivcw, dataset)\n",
    "    ccw = create_cw(ccw, dataset)\n",
    "    # cw = create_cw(cw, dataset)\n",
    "\n",
    "    av, asim, ccv, ccsim, cv, csim  = aivcw.calc_self_cw_versatility(), aivcw.calc_image_simirality(), ccw.calc_self_cw_versatility(), ccw.calc_image_simirality(), cw.calc_self_cw_versatility(), cw.calc_image_simirality()\n",
    "\n",
    "    with open(f'{new_dir_path}/versatility.csv', 'a') as f:\n",
    "        f.write(f'{av}, {asim}, {ccv}, {ccsim}, {cv}, {csim} \\n')\n",
    "    print(f'\\n{i}回終了')\n",
    "    "
   ]
  }
 ],
 "metadata": {
  "language_info": {
   "name": "python"
  },
  "orig_nbformat": 4
 },
 "nbformat": 4,
 "nbformat_minor": 2
}
