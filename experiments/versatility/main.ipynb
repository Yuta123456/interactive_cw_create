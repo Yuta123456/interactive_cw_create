{
 "cells": [
  {
   "cell_type": "code",
   "execution_count": 81,
   "metadata": {},
   "outputs": [],
   "source": [
    "import sys\n",
    "import os\n",
    "sys.path.append(os.path.abspath(\"../\"))\n",
    "sys.path.append(os.path.abspath(\"../..\"))\n",
    "from create_fashion_items_image import create_cw_image\n",
    "from fashion_class.ImageStruct import ImageStruct\n",
    "\n",
    "import importlib\n",
    "import fashion_class\n",
    "\n",
    "from fashion_class.FashionItem import FashionItem\n",
    "import gc\n",
    "import random\n",
    "from CreateCW import change_item_recommandation, search_alternate_item\n",
    "from itertools import chain\n",
    "importlib.reload(fashion_class.CapsuleWardrobeClass)\n",
    "from fashion_class.CapsuleWardrobeClass import CapsuleWardrobe\n",
    "import torch\n"
   ]
  },
  {
   "cell_type": "code",
   "execution_count": 83,
   "metadata": {},
   "outputs": [],
   "source": [
    "\n",
    "\n",
    "\n",
    "class AllItemVersatilityCapsuleWardrobe(CapsuleWardrobe):\n",
    "    def __init__(self, initial_items, target_items):\n",
    "        super().__init__(initial_items=initial_items)\n",
    "        self.NEAREST_ITEM_LENGTH = 100\n",
    "        self.target_items = target_items\n",
    "\n",
    "    def calc_versatility_increase(self, items: list[FashionItem], new_item: FashionItem):\n",
    "        category = new_item.get_category()\n",
    "        covered_item_ids = set()\n",
    "\n",
    "        for i in items:\n",
    "            X = i.img_tensor.expand(self.target_items[category].size())\n",
    "             # ユークリッド距離を計算します\n",
    "            distances = torch.sqrt(torch.sum((X - self.target_items[category]) ** 2, dim=1))\n",
    "            # 上位k個の最小値のインデックスを取得\n",
    "            sorted_indices = torch.argsort(distances)\n",
    "            k_min_indices = sorted_indices[:self.NEAREST_ITEM_LENGTH]\n",
    "            labels: set[int] = set(k_min_indices.tolist())\n",
    "            covered_item_ids.union(labels)\n",
    "\n",
    "        pre_score = len(covered_item_ids)\n",
    "        X = new_item.img_tensor.expand(self.target_items[category].size())\n",
    "        # ユークリッド距離を計算します\n",
    "        distances = torch.sqrt(torch.sum((X - self.target_items[category]) ** 2, dim=1))\n",
    "        # 上位k個の最小値のインデックスを取得\n",
    "        sorted_indices = torch.argsort(distances)\n",
    "        k_min_indices = sorted_indices[:self.NEAREST_ITEM_LENGTH]\n",
    "        labels: list[int] = k_min_indices.tolist()\n",
    "        covered_item_ids.union(labels)\n",
    "\n",
    "        return (len(covered_item_ids) - pre_score) / self.NEAREST_ITEM_LENGTH\n",
    "\n",
    "    def calc_self_cw_versatility(self):\n",
    "        score = 0\n",
    "        for items, category in zip([self.get_tops(), self.get_bottoms(), self.get_shoes()], ['tops', 'bottoms', 'shoes']):\n",
    "            covered_item_ids = set()\n",
    "            for i in items:\n",
    "                X = i.img_tensor.expand(self.target_items[category].size())\n",
    "                # ユークリッド距離を計算します\n",
    "                distances = torch.sqrt(torch.sum((X - self.target_items[category]) ** 2, dim=1))\n",
    "                # 上位k個の最小値のインデックスを取得\n",
    "                sorted_indices = torch.argsort(distances)\n",
    "                k_min_indices = sorted_indices[:self.NEAREST_ITEM_LENGTH]\n",
    "                labels: set[int] = set(k_min_indices.tolist())\n",
    "                covered_item_ids = covered_item_ids.union(labels)\n",
    "            score += len(covered_item_ids)\n",
    "        return score / (self.max_length * self.NEAREST_ITEM_LENGTH)\n",
    "\n",
    "    def calc_compatibility_increase(self, _):\n",
    "        return 0\n",
    "\n",
    "    def calc_self_cw_compatibility(self):\n",
    "        return 0\n",
    "    \n",
    "    def calc_image_simirality(self):\n",
    "        score = 0\n",
    "        for items, _ in zip([self.get_tops(), self.get_bottoms(), self.get_shoes()], ['tops', 'bottoms', 'shoes']):\n",
    "            for i in range(self.max_length):\n",
    "                for j in range(i+1, self.max_length):\n",
    "                    score += torch.sqrt(torch.sum((items[i].img_tensor - items[j].img_tensor) ** 2, dim=1))\n",
    "        return score\n",
    "\n",
    "class ClusterCapsuleWardrobe(CapsuleWardrobe):\n",
    "    def __init__(self, initial_items, target_items):\n",
    "        super().__init__(initial_items=initial_items)\n",
    "        self.target_tops = target_items['tops']\n",
    "        self.target_bottoms = target_items['bottoms']\n",
    "        self.target_shoes = target_items['shoes']\n",
    "\n",
    "    def calc_compatibility_increase(self, _):\n",
    "        return 0\n",
    "\n",
    "    def calc_self_cw_compatibility(self):\n",
    "        return 0\n",
    "\n",
    "    def calc_image_simirality(self):\n",
    "        score = 0\n",
    "        for items, _ in zip([self.get_tops(), self.get_bottoms(), self.get_shoes()], ['tops', 'bottoms', 'shoes']):\n",
    "            for i in range(self.max_length):\n",
    "                for j in range(i+1, self.max_length):\n",
    "                    score += torch.sqrt(torch.sum((items[i].img_tensor - items[j].img_tensor) ** 2, dim=1))\n",
    "        return score\n",
    "\n",
    "    \n"
   ]
  },
  {
   "cell_type": "code",
   "execution_count": 67,
   "metadata": {},
   "outputs": [],
   "source": [
    "import copy\n",
    "\n",
    "def create_cw(cw: CapsuleWardrobe, dataset, eps=1e-3):\n",
    "    increase = eps + 1\n",
    "    pre_cw = copy.deepcopy(cw)\n",
    "    while increase > eps:\n",
    "        # ここ遅い。topsとかカテゴリごとに、キャッシュしてあげたほうがいい。\n",
    "        increase = cw.optimize(dataset)\n",
    "        pre_cw = copy.deepcopy(cw)\n",
    "        if increase < 0:\n",
    "            cw = pre_cw\n",
    "    return cw"
   ]
  },
  {
   "cell_type": "code",
   "execution_count": 6,
   "metadata": {},
   "outputs": [
    {
     "name": "stdout",
     "output_type": "stream",
     "text": [
      "【==================================================================================================  】"
     ]
    }
   ],
   "source": [
    "annotation_file, tensor_file = \\\n",
    "        'D:/M1/fashion/optimization/data/anotation_new.csv', 'D:/M1/fashion/optimization/data/resnet50_tensor.pt'\n",
    "\n",
    "dataset = ImageStruct(annotation_file, tensor_file, init_item_length=500)\n",
    "target_items = {\n",
    "    'tops':torch.stack([i.img_tensor for i in dataset.get_tops()]),\n",
    "    'bottoms':torch.stack([i.img_tensor for i in dataset.get_bottoms()]),\n",
    "    'shoes':torch.stack([i.img_tensor for i in dataset.get_shoes()]),\n",
    "}\n",
    "\n",
    "initial_items = {\n",
    "    'tops': random.sample(dataset.get_tops(), 20),\n",
    "    'bottoms':random.sample(dataset.get_bottoms(), 20),\n",
    "    'shoes':random.sample(dataset.get_shoes(), 20),\n",
    "}\n"
   ]
  },
  {
   "cell_type": "code",
   "execution_count": 77,
   "metadata": {},
   "outputs": [],
   "source": []
  },
  {
   "cell_type": "code",
   "execution_count": 85,
   "metadata": {},
   "outputs": [],
   "source": [
    "\n",
    "aivcw = AllItemVersatilityCapsuleWardrobe(initial_items, target_items)\n",
    "ccw = ClusterCapsuleWardrobe(initial_items, target_items)\n",
    "cw = CapsuleWardrobe(initial_items=initial_items)\n",
    "aivcw = create_cw(aivcw, dataset)\n",
    "ccw = create_cw(ccw, dataset)\n",
    "cw = create_cw(cw, dataset)\n"
   ]
  },
  {
   "cell_type": "code",
   "execution_count": 86,
   "metadata": {},
   "outputs": [
    {
     "data": {
      "text/plain": [
       "(0, 0.56)"
      ]
     },
     "execution_count": 86,
     "metadata": {},
     "output_type": "execute_result"
    }
   ],
   "source": [
    "aivcw.calc_self_cw_compatibility(), aivcw.calc_self_cw_versatility()"
   ]
  },
  {
   "cell_type": "code",
   "execution_count": 87,
   "metadata": {},
   "outputs": [
    {
     "data": {
      "text/plain": [
       "(0, 1.0)"
      ]
     },
     "execution_count": 87,
     "metadata": {},
     "output_type": "execute_result"
    }
   ],
   "source": [
    "ccw.calc_self_cw_compatibility(), ccw.calc_self_cw_versatility()"
   ]
  },
  {
   "cell_type": "code",
   "execution_count": 70,
   "metadata": {},
   "outputs": [],
   "source": [
    "image = create_cw_image(ccw)\n",
    "image.show()"
   ]
  },
  {
   "cell_type": "code",
   "execution_count": 71,
   "metadata": {},
   "outputs": [],
   "source": [
    "image = create_cw_image(aivcw)\n",
    "image.show()"
   ]
  }
 ],
 "metadata": {
  "kernelspec": {
   "display_name": "base",
   "language": "python",
   "name": "python3"
  },
  "language_info": {
   "codemirror_mode": {
    "name": "ipython",
    "version": 3
   },
   "file_extension": ".py",
   "mimetype": "text/x-python",
   "name": "python",
   "nbconvert_exporter": "python",
   "pygments_lexer": "ipython3",
   "version": "3.9.7"
  },
  "orig_nbformat": 4
 },
 "nbformat": 4,
 "nbformat_minor": 2
}
