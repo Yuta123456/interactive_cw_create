{
 "cells": [
  {
   "cell_type": "code",
   "execution_count": null,
   "metadata": {},
   "outputs": [],
   "source": [
    "import sys\n",
    "import os\n",
    "sys.path.append(os.path.abspath(\"../\"))\n",
    "sys.path.append(os.path.abspath(\"../..\"))\n",
    "from create_fashion_items_image import create_cw_image\n",
    "from fashion_class.ImageStruct import ImageStruct\n",
    "\n",
    "import importlib\n",
    "import fashion_class\n",
    "\n",
    "from fashion_class.FashionItem import FashionItem\n",
    "import gc\n",
    "import random\n",
    "from CreateCW import change_item_recommandation, search_alternate_item\n",
    "from itertools import chain\n",
    "importlib.reload(fashion_class.CapsuleWardrobeClass)\n",
    "from fashion_class.CapsuleWardrobeClass import CapsuleWardrobe\n",
    "import torch\n",
    "import os\n"
   ]
  },
  {
   "cell_type": "code",
   "execution_count": 108,
   "metadata": {},
   "outputs": [],
   "source": [
    "\n",
    "\n",
    "\n",
    "class AllItemVersatilityCapsuleWardrobe(CapsuleWardrobe):\n",
    "    def __init__(self, initial_items, target_items, NEAREST_ITEM_LENGTH=100):\n",
    "        super().__init__(initial_items=initial_items)\n",
    "        self.NEAREST_ITEM_LENGTH = NEAREST_ITEM_LENGTH\n",
    "        self.target_items = target_items\n",
    "\n",
    "    def calc_versatility_increase(self, items: list[FashionItem], new_item: FashionItem):\n",
    "        category = new_item.get_category()\n",
    "        covered_item_ids = set()\n",
    "\n",
    "        for i in items:\n",
    "            X = i.img_tensor.expand(self.target_items[category].size())\n",
    "             # ユークリッド距離を計算します\n",
    "            distances = torch.sqrt(torch.sum((X - self.target_items[category]) ** 2, dim=1))\n",
    "            # 上位k個の最小値のインデックスを取得\n",
    "            sorted_indices = torch.argsort(distances)\n",
    "            k_min_indices = sorted_indices[:self.NEAREST_ITEM_LENGTH]\n",
    "            labels: set[int] = set(k_min_indices.tolist())\n",
    "            covered_item_ids.union(labels)\n",
    "\n",
    "        pre_score = len(covered_item_ids)\n",
    "        X = new_item.img_tensor.expand(self.target_items[category].size())\n",
    "        # ユークリッド距離を計算します\n",
    "        distances = torch.sqrt(torch.sum((X - self.target_items[category]) ** 2, dim=1))\n",
    "        # 上位k個の最小値のインデックスを取得\n",
    "        sorted_indices = torch.argsort(distances)\n",
    "        k_min_indices = sorted_indices[:self.NEAREST_ITEM_LENGTH]\n",
    "        labels: list[int] = k_min_indices.tolist()\n",
    "        covered_item_ids.union(labels)\n",
    "\n",
    "        return (len(covered_item_ids) - pre_score) / self.NEAREST_ITEM_LENGTH\n",
    "\n",
    "    def calc_self_cw_versatility(self):\n",
    "        score = 0\n",
    "        for items, category in zip([self.get_tops(), self.get_bottoms(), self.get_shoes()], ['tops', 'bottoms', 'shoes']):\n",
    "            covered_item_ids = set()\n",
    "            for i in items:\n",
    "                X = i.img_tensor.expand(self.target_items[category].size())\n",
    "                # ユークリッド距離を計算します\n",
    "                distances = torch.sqrt(torch.sum((X - self.target_items[category]) ** 2, dim=1))\n",
    "                # 上位k個の最小値のインデックスを取得\n",
    "                sorted_indices = torch.argsort(distances)\n",
    "                k_min_indices = sorted_indices[:self.NEAREST_ITEM_LENGTH]\n",
    "                labels: set[int] = set(k_min_indices.tolist())\n",
    "                covered_item_ids = covered_item_ids.union(labels)\n",
    "            score += len(covered_item_ids)\n",
    "        return score / (self.max_length * self.NEAREST_ITEM_LENGTH)\n",
    "\n",
    "    def calc_compatibility_increase(self, _):\n",
    "        return 0\n",
    "\n",
    "    def calc_self_cw_compatibility(self):\n",
    "        return 0\n",
    "    \n",
    "    def calc_image_simirality(self):\n",
    "        score = 0\n",
    "        for items, _ in zip([self.get_tops(), self.get_bottoms(), self.get_shoes()], ['tops', 'bottoms', 'shoes']):\n",
    "            for i in range(self.max_length):\n",
    "                for j in range(i+1, self.max_length):\n",
    "                    score += torch.sqrt(torch.sum((items[i].img_tensor - items[j].img_tensor) ** 2))\n",
    "        return score.item()\n",
    "\n",
    "class ClusterCapsuleWardrobe(CapsuleWardrobe):\n",
    "    def __init__(self, initial_items, target_items):\n",
    "        super().__init__(initial_items=initial_items)\n",
    "        self.target_tops = target_items['tops']\n",
    "        self.target_bottoms = target_items['bottoms']\n",
    "        self.target_shoes = target_items['shoes']\n",
    "\n",
    "    def calc_compatibility_increase(self, _):\n",
    "        return 0\n",
    "\n",
    "    def calc_self_cw_compatibility(self):\n",
    "        return 0\n",
    "\n",
    "    def calc_image_simirality(self):\n",
    "        score = 0\n",
    "        for items, _ in zip([self.get_tops(), self.get_bottoms(), self.get_shoes()], ['tops', 'bottoms', 'shoes']):\n",
    "            for i in range(self.max_length):\n",
    "                for j in range(i+1, self.max_length):\n",
    "                    score += torch.sqrt(torch.sum((items[i].img_tensor - items[j].img_tensor) ** 2))\n",
    "        return score.item()\n",
    "\n",
    "    \n"
   ]
  },
  {
   "cell_type": "code",
   "execution_count": 90,
   "metadata": {},
   "outputs": [],
   "source": [
    "import copy\n",
    "\n",
    "def create_cw(cw: CapsuleWardrobe, dataset, eps=1e-3):\n",
    "    increase = eps + 1\n",
    "    pre_cw = copy.deepcopy(cw)\n",
    "    while increase > eps:\n",
    "        # ここ遅い。topsとかカテゴリごとに、キャッシュしてあげたほうがいい。\n",
    "        increase = cw.optimize(dataset)\n",
    "        pre_cw = copy.deepcopy(cw)\n",
    "        if increase < 0:\n",
    "            cw = pre_cw\n",
    "    return cw"
   ]
  },
  {
   "cell_type": "code",
   "execution_count": 6,
   "metadata": {},
   "outputs": [
    {
     "name": "stdout",
     "output_type": "stream",
     "text": [
      "【==================================================================================================  】"
     ]
    }
   ],
   "source": [
    "annotation_file, tensor_file = \\\n",
    "        'D:/M1/fashion/optimization/data/anotation_new.csv', 'D:/M1/fashion/optimization/data/resnet50_tensor.pt'"
   ]
  },
  {
   "cell_type": "code",
   "execution_count": 110,
   "metadata": {},
   "outputs": [
    {
     "name": "stdout",
     "output_type": "stream",
     "text": [
      "【==================================================================================================  】"
     ]
    },
    {
     "ename": "TypeError",
     "evalue": "slice indices must be integers or None or have an __index__ method",
     "output_type": "error",
     "traceback": [
      "\u001b[1;31m---------------------------------------------------------------------------\u001b[0m",
      "\u001b[1;31mTypeError\u001b[0m                                 Traceback (most recent call last)",
      "\u001b[1;32m~\\AppData\\Local\\Temp/ipykernel_15120/2305517300.py\u001b[0m in \u001b[0;36m<module>\u001b[1;34m\u001b[0m\n\u001b[0;32m     18\u001b[0m     \u001b[0mccw\u001b[0m \u001b[1;33m=\u001b[0m \u001b[0mClusterCapsuleWardrobe\u001b[0m\u001b[1;33m(\u001b[0m\u001b[0minitial_items\u001b[0m\u001b[1;33m,\u001b[0m \u001b[0mtarget_items\u001b[0m\u001b[1;33m)\u001b[0m\u001b[1;33m\u001b[0m\u001b[1;33m\u001b[0m\u001b[0m\n\u001b[0;32m     19\u001b[0m     \u001b[0mcw\u001b[0m \u001b[1;33m=\u001b[0m \u001b[0mCapsuleWardrobe\u001b[0m\u001b[1;33m(\u001b[0m\u001b[0minitial_items\u001b[0m\u001b[1;33m=\u001b[0m\u001b[0minitial_items\u001b[0m\u001b[1;33m)\u001b[0m\u001b[1;33m\u001b[0m\u001b[1;33m\u001b[0m\u001b[0m\n\u001b[1;32m---> 20\u001b[1;33m     \u001b[0maivcw\u001b[0m \u001b[1;33m=\u001b[0m \u001b[0mcreate_cw\u001b[0m\u001b[1;33m(\u001b[0m\u001b[0maivcw\u001b[0m\u001b[1;33m,\u001b[0m \u001b[0mdataset\u001b[0m\u001b[1;33m)\u001b[0m\u001b[1;33m\u001b[0m\u001b[1;33m\u001b[0m\u001b[0m\n\u001b[0m\u001b[0;32m     21\u001b[0m     \u001b[0mccw\u001b[0m \u001b[1;33m=\u001b[0m \u001b[0mcreate_cw\u001b[0m\u001b[1;33m(\u001b[0m\u001b[0mccw\u001b[0m\u001b[1;33m,\u001b[0m \u001b[0mdataset\u001b[0m\u001b[1;33m)\u001b[0m\u001b[1;33m\u001b[0m\u001b[1;33m\u001b[0m\u001b[0m\n\u001b[0;32m     22\u001b[0m     \u001b[0mcw\u001b[0m \u001b[1;33m=\u001b[0m \u001b[0mcreate_cw\u001b[0m\u001b[1;33m(\u001b[0m\u001b[0mcw\u001b[0m\u001b[1;33m,\u001b[0m \u001b[0mdataset\u001b[0m\u001b[1;33m)\u001b[0m\u001b[1;33m\u001b[0m\u001b[1;33m\u001b[0m\u001b[0m\n",
      "\u001b[1;32m~\\AppData\\Local\\Temp/ipykernel_15120/254339211.py\u001b[0m in \u001b[0;36mcreate_cw\u001b[1;34m(cw, dataset, eps)\u001b[0m\n\u001b[0;32m      6\u001b[0m     \u001b[1;32mwhile\u001b[0m \u001b[0mincrease\u001b[0m \u001b[1;33m>\u001b[0m \u001b[0meps\u001b[0m\u001b[1;33m:\u001b[0m\u001b[1;33m\u001b[0m\u001b[1;33m\u001b[0m\u001b[0m\n\u001b[0;32m      7\u001b[0m         \u001b[1;31m# ここ遅い。topsとかカテゴリごとに、キャッシュしてあげたほうがいい。\u001b[0m\u001b[1;33m\u001b[0m\u001b[1;33m\u001b[0m\u001b[0m\n\u001b[1;32m----> 8\u001b[1;33m         \u001b[0mincrease\u001b[0m \u001b[1;33m=\u001b[0m \u001b[0mcw\u001b[0m\u001b[1;33m.\u001b[0m\u001b[0moptimize\u001b[0m\u001b[1;33m(\u001b[0m\u001b[0mdataset\u001b[0m\u001b[1;33m)\u001b[0m\u001b[1;33m\u001b[0m\u001b[1;33m\u001b[0m\u001b[0m\n\u001b[0m\u001b[0;32m      9\u001b[0m         \u001b[0mpre_cw\u001b[0m \u001b[1;33m=\u001b[0m \u001b[0mcopy\u001b[0m\u001b[1;33m.\u001b[0m\u001b[0mdeepcopy\u001b[0m\u001b[1;33m(\u001b[0m\u001b[0mcw\u001b[0m\u001b[1;33m)\u001b[0m\u001b[1;33m\u001b[0m\u001b[1;33m\u001b[0m\u001b[0m\n\u001b[0;32m     10\u001b[0m         \u001b[1;32mif\u001b[0m \u001b[0mincrease\u001b[0m \u001b[1;33m<\u001b[0m \u001b[1;36m0\u001b[0m\u001b[1;33m:\u001b[0m\u001b[1;33m\u001b[0m\u001b[1;33m\u001b[0m\u001b[0m\n",
      "\u001b[1;32md:\\M1\\fashion\\optimization\\fashion_class\\CapsuleWardrobeClass.py\u001b[0m in \u001b[0;36moptimize\u001b[1;34m(self, dataset)\u001b[0m\n\u001b[0;32m     62\u001b[0m \u001b[1;33m\u001b[0m\u001b[0m\n\u001b[0;32m     63\u001b[0m     \u001b[1;32mdef\u001b[0m \u001b[0moptimize\u001b[0m\u001b[1;33m(\u001b[0m\u001b[0mself\u001b[0m\u001b[1;33m,\u001b[0m \u001b[0mdataset\u001b[0m\u001b[1;33m:\u001b[0m \u001b[0mImageStruct\u001b[0m\u001b[1;33m)\u001b[0m\u001b[1;33m:\u001b[0m\u001b[1;33m\u001b[0m\u001b[1;33m\u001b[0m\u001b[0m\n\u001b[1;32m---> 64\u001b[1;33m         \u001b[0mpre_score\u001b[0m \u001b[1;33m=\u001b[0m \u001b[0mself\u001b[0m\u001b[1;33m.\u001b[0m\u001b[0mcalc_self_cw_compatibility\u001b[0m\u001b[1;33m(\u001b[0m\u001b[1;33m)\u001b[0m \u001b[1;33m+\u001b[0m \u001b[0mself\u001b[0m\u001b[1;33m.\u001b[0m\u001b[0mcalc_self_cw_versatility\u001b[0m\u001b[1;33m(\u001b[0m\u001b[1;33m)\u001b[0m\u001b[1;33m\u001b[0m\u001b[1;33m\u001b[0m\u001b[0m\n\u001b[0m\u001b[0;32m     65\u001b[0m \u001b[1;33m\u001b[0m\u001b[0m\n\u001b[0;32m     66\u001b[0m         \u001b[0mself\u001b[0m\u001b[1;33m.\u001b[0m\u001b[0moptimize_tops\u001b[0m\u001b[1;33m(\u001b[0m\u001b[0mdataset\u001b[0m\u001b[1;33m.\u001b[0m\u001b[0mtops\u001b[0m\u001b[1;33m)\u001b[0m\u001b[1;33m\u001b[0m\u001b[1;33m\u001b[0m\u001b[0m\n",
      "\u001b[1;32m~\\AppData\\Local\\Temp/ipykernel_15120/2367093407.py\u001b[0m in \u001b[0;36mcalc_self_cw_versatility\u001b[1;34m(self)\u001b[0m\n\u001b[0;32m     41\u001b[0m                 \u001b[1;31m# 上位k個の最小値のインデックスを取得\u001b[0m\u001b[1;33m\u001b[0m\u001b[1;33m\u001b[0m\u001b[0m\n\u001b[0;32m     42\u001b[0m                 \u001b[0msorted_indices\u001b[0m \u001b[1;33m=\u001b[0m \u001b[0mtorch\u001b[0m\u001b[1;33m.\u001b[0m\u001b[0margsort\u001b[0m\u001b[1;33m(\u001b[0m\u001b[0mdistances\u001b[0m\u001b[1;33m)\u001b[0m\u001b[1;33m\u001b[0m\u001b[1;33m\u001b[0m\u001b[0m\n\u001b[1;32m---> 43\u001b[1;33m                 \u001b[0mk_min_indices\u001b[0m \u001b[1;33m=\u001b[0m \u001b[0msorted_indices\u001b[0m\u001b[1;33m[\u001b[0m\u001b[1;33m:\u001b[0m\u001b[0mself\u001b[0m\u001b[1;33m.\u001b[0m\u001b[0mNEAREST_ITEM_LENGTH\u001b[0m\u001b[1;33m]\u001b[0m\u001b[1;33m\u001b[0m\u001b[1;33m\u001b[0m\u001b[0m\n\u001b[0m\u001b[0;32m     44\u001b[0m                 \u001b[0mlabels\u001b[0m\u001b[1;33m:\u001b[0m \u001b[0mset\u001b[0m\u001b[1;33m[\u001b[0m\u001b[0mint\u001b[0m\u001b[1;33m]\u001b[0m \u001b[1;33m=\u001b[0m \u001b[0mset\u001b[0m\u001b[1;33m(\u001b[0m\u001b[0mk_min_indices\u001b[0m\u001b[1;33m.\u001b[0m\u001b[0mtolist\u001b[0m\u001b[1;33m(\u001b[0m\u001b[1;33m)\u001b[0m\u001b[1;33m)\u001b[0m\u001b[1;33m\u001b[0m\u001b[1;33m\u001b[0m\u001b[0m\n\u001b[0;32m     45\u001b[0m                 \u001b[0mcovered_item_ids\u001b[0m \u001b[1;33m=\u001b[0m \u001b[0mcovered_item_ids\u001b[0m\u001b[1;33m.\u001b[0m\u001b[0munion\u001b[0m\u001b[1;33m(\u001b[0m\u001b[0mlabels\u001b[0m\u001b[1;33m)\u001b[0m\u001b[1;33m\u001b[0m\u001b[1;33m\u001b[0m\u001b[0m\n",
      "\u001b[1;31mTypeError\u001b[0m: slice indices must be integers or None or have an __index__ method"
     ]
    }
   ],
   "source": [
    "INIT_ITEM_LENGTH = 500\n",
    "new_dir_path = 'D:/M1/fashion/optimization/data/versatility/init-item-length-{INIT_ITEM_LENGTH}'\n",
    "os.makedirs(new_dir_path)\n",
    "for i in range(10):\n",
    "    dataset = ImageStruct(annotation_file, tensor_file, init_item_length=INIT_ITEM_LENGTH)\n",
    "    target_items = {\n",
    "        'tops':torch.stack([i.img_tensor for i in dataset.get_tops()]),\n",
    "        'bottoms':torch.stack([i.img_tensor for i in dataset.get_bottoms()]),\n",
    "        'shoes':torch.stack([i.img_tensor for i in dataset.get_shoes()]),\n",
    "    }\n",
    "\n",
    "    initial_items = {\n",
    "        'tops': random.sample(dataset.get_tops(), 4),\n",
    "        'bottoms':random.sample(dataset.get_bottoms(), 4),\n",
    "        'shoes':random.sample(dataset.get_shoes(), 4),\n",
    "    }\n",
    "    aivcw = AllItemVersatilityCapsuleWardrobe(initial_items, target_items, INIT_ITEM_LENGTH // 10)\n",
    "    ccw = ClusterCapsuleWardrobe(initial_items, target_items)\n",
    "    cw = CapsuleWardrobe(initial_items=initial_items)\n",
    "    aivcw = create_cw(aivcw, dataset)\n",
    "    ccw = create_cw(ccw, dataset)\n",
    "    cw = create_cw(cw, dataset)\n",
    "\n",
    "    av, asim, cv, csim  = aivcw.calc_self_cw_versatility(), aivcw.calc_image_simirality(), ccw.calc_self_cw_versatility(), ccw.calc_image_simirality()\n",
    "\n",
    "    with open(f'{new_dir_path}/versatility.csv', 'a') as f:\n",
    "        f.write(f'{av}, {asim}, {cv}, {csim} \\n')\n",
    "    print(f'{i}回終了')"
   ]
  }
 ],
 "metadata": {
  "kernelspec": {
   "display_name": "base",
   "language": "python",
   "name": "python3"
  },
  "language_info": {
   "codemirror_mode": {
    "name": "ipython",
    "version": 3
   },
   "file_extension": ".py",
   "mimetype": "text/x-python",
   "name": "python",
   "nbconvert_exporter": "python",
   "pygments_lexer": "ipython3",
   "version": "3.9.7"
  },
  "orig_nbformat": 4
 },
 "nbformat": 4,
 "nbformat_minor": 2
}
