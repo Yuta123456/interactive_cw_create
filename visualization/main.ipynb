{
 "cells": [
  {
   "cell_type": "code",
   "execution_count": 2,
   "metadata": {},
   "outputs": [],
   "source": [
    "import sys\n",
    "import os\n",
    "sys.path.append(os.path.abspath(\"../\"))"
   ]
  },
  {
   "cell_type": "code",
   "execution_count": 3,
   "metadata": {},
   "outputs": [],
   "source": [
    "from create_fashion_items_image import create_cw_image, create_fashion_items_image\n",
    "from embedding_word import get_embedding_word\n",
    "from fashion_class.FashionItem import FashionItem\n",
    "from fashion_class.ImageStruct import ImageStruct\n",
    "from get_caption_model import get_caption_model\n",
    "from search_items_from_caption_embedding import search_items_from_caption_embedding\n",
    "\n",
    "import matplotlib.pyplot as plt\n",
    "import pandas as pd\n",
    "from sklearn.manifold import TSNE"
   ]
  },
  {
   "cell_type": "code",
   "execution_count": 4,
   "metadata": {},
   "outputs": [
    {
     "name": "stdout",
     "output_type": "stream",
     "text": [
      "データセット初期化中\n",
      "データセット初期化終了\n"
     ]
    }
   ],
   "source": [
    "print('データセット初期化中')\n",
    "# データセットを初期化\n",
    "annotation_file, tensor_file = \\\n",
    "      '../data/anotation_new.csv', '../data/resnet50_tensor.pt'\n",
    "dataset = ImageStruct(annotation_file, tensor_file, init_item_length=0)\n",
    "print('データセット初期化終了')\n"
   ]
  },
  {
   "cell_type": "code",
   "execution_count": 6,
   "metadata": {},
   "outputs": [],
   "source": [
    "label = pd.DataFrame([dataset.get(i)[1].category for i in range(len(dataset))])\n",
    "print('label finished')\n",
    "tensor = [dataset.get(i)[0].numpy().copy() for i in range(len(dataset))]\n",
    "print('tensor finished')\n",
    "X = pd.DataFrame(tensor, columns = ['col1', 'col2'])"
   ]
  },
  {
   "cell_type": "code",
   "execution_count": null,
   "metadata": {},
   "outputs": [],
   "source": [
    "tsne = TSNE(n_components=2, random_state = 0, perplexity = 30, n_iter = 1000)\n",
    "X_embedded = tsne.fit_transform(X)"
   ]
  },
  {
   "cell_type": "code",
   "execution_count": null,
   "metadata": {},
   "outputs": [],
   "source": [
    "# ddf = pd.concat([df, pd.DataFrame(X_embedded, columns = ['col1', 'col2'])], axis = 1)"
   ]
  },
  {
   "cell_type": "code",
   "execution_count": null,
   "metadata": {},
   "outputs": [],
   "source": [
    "# for idx, (color, rgb) in enumerate(plt.colors.CSS4_COLORS.items()):\n",
    "    # ax.scatter(x, y, s=10**2, color=rgb, label=color)"
   ]
  },
  {
   "cell_type": "code",
   "execution_count": null,
   "metadata": {},
   "outputs": [],
   "source": [
    "plt.figure(figsize = (500, 500))\n",
    "colors = plt.colors.CSS4_COLORS.items()\n",
    "category_list = list(set(label))\n",
    "for i , v in enumerate(category_list):\n",
    "    tmp_df = X_embedded[label == v]\n",
    "    plt.scatter(tmp_df['col1'],\n",
    "                tmp_df['col2'],\n",
    "                label = v,\n",
    "                color = colors[i])\n",
    "\n",
    "plt.legend(fontsize = 500)"
   ]
  }
 ],
 "metadata": {
  "kernelspec": {
   "display_name": "base",
   "language": "python",
   "name": "python3"
  },
  "language_info": {
   "codemirror_mode": {
    "name": "ipython",
    "version": 3
   },
   "file_extension": ".py",
   "mimetype": "text/x-python",
   "name": "python",
   "nbconvert_exporter": "python",
   "pygments_lexer": "ipython3",
   "version": "3.9.7"
  },
  "orig_nbformat": 4
 },
 "nbformat": 4,
 "nbformat_minor": 2
}
